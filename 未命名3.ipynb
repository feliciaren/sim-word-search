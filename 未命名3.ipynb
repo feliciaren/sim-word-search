{
 "cells": [
  {
   "cell_type": "code",
   "execution_count": 1,
   "metadata": {},
   "outputs": [],
   "source": [
    "import thulac\n",
    "import numpy as np\n",
    "import pandas as pd\n",
    "import pkuseg\n",
    "import jieba\n",
    "import json\n",
    "import re\n",
    "import jieba.posseg as pseg"
   ]
  },
  {
   "cell_type": "code",
   "execution_count": 2,
   "metadata": {},
   "outputs": [],
   "source": [
    "base_dir = './ccks2019_el/'"
   ]
  },
  {
   "cell_type": "code",
   "execution_count": 3,
   "metadata": {},
   "outputs": [],
   "source": [
    "# thu1 = thulac.thulac(user_dict = './entity_dict.text')"
   ]
  },
  {
   "cell_type": "code",
   "execution_count": 4,
   "metadata": {},
   "outputs": [
    {
     "name": "stdout",
     "output_type": "stream",
     "text": [
      "Model loaded succeed\n"
     ]
    }
   ],
   "source": [
    "thu1 = thulac.thulac(seg_only = True)"
   ]
  },
  {
   "cell_type": "code",
   "execution_count": 5,
   "metadata": {},
   "outputs": [],
   "source": [
    "train_data = []\n",
    "with open(base_dir + 'train.json','r') as f:\n",
    "    lines = f.readlines()\n",
    "    for line in lines:\n",
    "        line = eval(line)\n",
    "        train_data.append(line)"
   ]
  },
  {
   "cell_type": "code",
   "execution_count": 6,
   "metadata": {},
   "outputs": [],
   "source": [
    "def clean_text(string):\n",
    "    r = '[’!\"#$%&\\'()*+-./:;<=>?@[\\\\]^_`{|}~]+'\n",
    "    string = re.sub('\\n', '', string)\n",
    "    string = re.sub('\\r', '', string)\n",
    "    string = re.sub(r'\\\\', '', string)\n",
    "    string = re.sub('\\?', '',string)\n",
    "    string = re.sub(r, '', string)\n",
    "    return string"
   ]
  },
  {
   "cell_type": "code",
   "execution_count": 7,
   "metadata": {},
   "outputs": [],
   "source": [
    "# text = []\n",
    "# for i in range(len(train_data)):\n",
    "#     temp = train_data[i]['text']\n",
    "#     temp = clean_text(temp)\n",
    "#     temp = jieba.cut_for_search(temp)\n",
    "#     text.append(\" \".join(temp))"
   ]
  },
  {
   "cell_type": "code",
   "execution_count": 8,
   "metadata": {},
   "outputs": [],
   "source": [
    "# print(text[0])"
   ]
  },
  {
   "cell_type": "code",
   "execution_count": 9,
   "metadata": {},
   "outputs": [
    {
     "name": "stderr",
     "output_type": "stream",
     "text": [
      "Building prefix dict from the default dictionary ...\n",
      "Loading model from cache /tmp/jieba.cache\n",
      "Loading model cost 0.904 seconds.\n",
      "Prefix dict has been built succesfully.\n"
     ]
    }
   ],
   "source": [
    "jieba.load_userdict('entity_dict.text')"
   ]
  },
  {
   "cell_type": "code",
   "execution_count": 10,
   "metadata": {},
   "outputs": [],
   "source": [
    "text = []\n",
    "for i in range(len(train_data)):\n",
    "    temp = train_data[i]['text']\n",
    "    temp = clean_text(temp)\n",
    "    temp = jieba.cut_for_search(temp)\n",
    "    text.append(\" \".join(temp))"
   ]
  },
  {
   "cell_type": "code",
   "execution_count": 11,
   "metadata": {},
   "outputs": [
    {
     "name": "stdout",
     "output_type": "stream",
     "text": [
      "南京 南站 坐 高铁 在 南京 南站 下 。 南京 南站\n"
     ]
    }
   ],
   "source": [
    "print(text[0])"
   ]
  },
  {
   "cell_type": "code",
   "execution_count": null,
   "metadata": {},
   "outputs": [],
   "source": []
  }
 ],
 "metadata": {
  "kernelspec": {
   "display_name": "Python 3",
   "language": "python",
   "name": "python3"
  },
  "language_info": {
   "codemirror_mode": {
    "name": "ipython",
    "version": 3
   },
   "file_extension": ".py",
   "mimetype": "text/x-python",
   "name": "python",
   "nbconvert_exporter": "python",
   "pygments_lexer": "ipython3",
   "version": "3.6.7"
  }
 },
 "nbformat": 4,
 "nbformat_minor": 2
}
