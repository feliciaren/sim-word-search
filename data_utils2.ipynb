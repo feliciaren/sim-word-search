{
 "cells": [
  {
   "cell_type": "code",
   "execution_count": 1,
   "metadata": {},
   "outputs": [
    {
     "name": "stderr",
     "output_type": "stream",
     "text": [
      "/home/llluckygirl/envs/anaconda3/lib/python3.6/site-packages/h5py/__init__.py:36: FutureWarning: Conversion of the second argument of issubdtype from `float` to `np.floating` is deprecated. In future, it will be treated as `np.float64 == np.dtype(float).type`.\n",
      "  from ._conv import register_converters as _register_converters\n"
     ]
    }
   ],
   "source": [
    "import json\n",
    "from tqdm import tqdm\n",
    "import os\n",
    "from random import choice\n",
    "from itertools import groupby\n",
    "import tensorflow as tf"
   ]
  },
  {
   "cell_type": "code",
   "execution_count": 2,
   "metadata": {},
   "outputs": [],
   "source": [
    "class KB(object):\n",
    "    def __init__(self,kb_directory):\n",
    "        print(\"start loading kb_data...\")\n",
    "        self.kb_directory = kb_directory\n",
    "        self.id2kb,self.types,self.predicate = self.get_id2kb()\n",
    "        self.kb2id = self.get_kb2id()\n",
    "        self.kb = list(self.kb2id.keys())\n",
    "        self.id = list(self.id2kb.keys())\n",
    "        self.print_info()\n",
    "\n",
    "    def print_info(self):\n",
    "        print(\"KB DATA INFORMATION\")\n",
    "        print(\"TOKEN SIZE:{}\".format(self.get_token_size()))\n",
    "        print(\"ID SIZE:{}\".format(len(self)))\n",
    "        print(\"TYPE SIZE:{}\".format(len(self.types)))\n",
    "        print(\"PREDICATE SIZE:{}\".format(len(self.predicate)))\n",
    "    def get_id2kb(self):\n",
    "        print(\"construct id2kb dict...\")\n",
    "        id2kb = {}\n",
    "        kbtype = set()\n",
    "        predicate = set()\n",
    "        multi_type = []\n",
    "        with open(self.kb_directory) as f:\n",
    "            for l in tqdm(f):\n",
    "                tmp = json.loads(l)\n",
    "                subject_id = tmp['subject_id']\n",
    "                subject_alias = list(set([tmp['subject']] + tmp.get('alias', [])))\n",
    "                subject_alias = [alias.lower() for alias in subject_alias]\n",
    "                subject_type = [i.lower() for i in tmp['type']]\n",
    "                kbtype.update(subject_type)\n",
    "                try:\n",
    "                    assert(len(tmp['type'])==1)\n",
    "                except AssertionError:\n",
    "                    multi_type.append(tmp['type'])\n",
    "                subject_data = {}\n",
    "                for i in tmp['data']:\n",
    "                    predicate.add(i['predicate'].lower())\n",
    "                    subject_data[i['predicate'].lower()] = i['object'].lower()\n",
    "                if subject_data:\n",
    "                    id2kb[subject_id] = {'alias': subject_alias, 'data': subject_data,'type':subject_type}\n",
    "#         print(multi_type)\n",
    "        return id2kb,kbtype,predicate\n",
    "    def get_kb2id(self):\n",
    "        print(\"construct kb2id dict...\")\n",
    "        kb2id = {}\n",
    "        for i,j in self.id2kb.items():\n",
    "            for k in j['alias']:\n",
    "                if k not in kb2id:\n",
    "                    kb2id[k] = []\n",
    "                kb2id[k].append(i)\n",
    "        return kb2id\n",
    "    def __len__(self):\n",
    "        return len(self.id2kb)\n",
    "    def get_token_size(self):\n",
    "        return len(self.kb)\n",
    "    def update_kb(self,update_list):\n",
    "        print('updating kb data')\n",
    "        print('current kb data information...')\n",
    "        self.print_info()\n",
    "        print('the length of update',len(update_list))\n",
    "        for dt in tqdm(update_list):\n",
    "            tmp_token = dt[0]\n",
    "            tmp_id = dt[1]\n",
    "            if tmp_token not in self.id2kb[tmp_id]['alias']:\n",
    "                self.id2kb[tmp_id]['alias'].append(tmp_token)\n",
    "            if tmp_token not in self.kb2id:\n",
    "                self.kb2id[tmp_token] = []\n",
    "            if tmp_id not in self.kb2id[tmp_token]:\n",
    "                self.kb2id[tmp_token].append(tmp_id)\n",
    "        self.kb = list(self.kb2id.keys())\n",
    "        self.id = list(self.id2kb.keys())\n",
    "        print('update done.')\n",
    "        self.print_info()\n",
    "#     def save_kb(self):\n",
    "        "
   ]
  },
  {
   "cell_type": "code",
   "execution_count": 3,
   "metadata": {},
   "outputs": [
    {
     "name": "stderr",
     "output_type": "stream",
     "text": [
      "2213it [00:00, 22129.55it/s]"
     ]
    },
    {
     "name": "stdout",
     "output_type": "stream",
     "text": [
      "start loading kb_data...\n",
      "construct id2kb dict...\n"
     ]
    },
    {
     "name": "stderr",
     "output_type": "stream",
     "text": [
      "399252it [00:18, 21102.37it/s]\n"
     ]
    },
    {
     "name": "stdout",
     "output_type": "stream",
     "text": [
      "construct kb2id dict...\n",
      "KB DATA INFORMATION\n",
      "TOKEN SIZE:303375\n",
      "ID SIZE:399233\n",
      "TYPE SIZE:51\n",
      "PREDICATE SIZE:41841\n"
     ]
    }
   ],
   "source": [
    "kb_data = KB('./ccks2019_el/kb_data')"
   ]
  },
  {
   "cell_type": "code",
   "execution_count": 4,
   "metadata": {},
   "outputs": [],
   "source": [
    "with open('./data/all_data.json') as f:\n",
    "    train_data,dev_data,test_data = json.load(f)"
   ]
  },
  {
   "cell_type": "code",
   "execution_count": 5,
   "metadata": {},
   "outputs": [
    {
     "name": "stdout",
     "output_type": "stream",
     "text": [
      "traindata size: 84262\n",
      "devdata size: 851\n",
      "testdata size 852\n"
     ]
    }
   ],
   "source": [
    "print('traindata size:',len(train_data))\n",
    "print('devdata size:',len(dev_data))\n",
    "print('testdata size',len(test_data))"
   ]
  },
  {
   "cell_type": "code",
   "execution_count": 6,
   "metadata": {},
   "outputs": [
    {
     "name": "stdout",
     "output_type": "stream",
     "text": [
      "{'text_id': '81967', 'text': '电影《淘金岁月》下载 急求', 'mention_data': [['电影', 0, '148097'], ['淘金岁月', 3, '50357']]}\n"
     ]
    }
   ],
   "source": [
    "print(train_data[0])"
   ]
  },
  {
   "cell_type": "markdown",
   "metadata": {},
   "source": [
    "kb = kb_data.kb\n",
    "update_set = []\n",
    "for dt in tqdm(train_data):\n",
    "    tmp = dt['mention_data']\n",
    "    for m in tmp:\n",
    "        if m[0] not in kb:\n",
    "            update_set.append([m[0],m[2]])\n",
    "print(len(update_set))"
   ]
  },
  {
   "cell_type": "code",
   "execution_count": 7,
   "metadata": {},
   "outputs": [],
   "source": [
    "def get_updata_list(kb_data,data):\n",
    "    update_set = []\n",
    "    id2kb = kb_data.id2kb\n",
    "    for dt in tqdm(data):\n",
    "        tmp = dt['mention_data']\n",
    "        for m in tmp:\n",
    "            if m[0] not in id2kb[m[2]]['alias']:\n",
    "                update_set.append([m[0],m[2]])\n",
    "    return update_set"
   ]
  },
  {
   "cell_type": "code",
   "execution_count": 8,
   "metadata": {},
   "outputs": [
    {
     "name": "stderr",
     "output_type": "stream",
     "text": [
      "100%|██████████| 84262/84262 [00:00<00:00, 258676.54it/s]\n"
     ]
    }
   ],
   "source": [
    "update_set = get_updata_list(kb_data,train_data)"
   ]
  },
  {
   "cell_type": "code",
   "execution_count": 9,
   "metadata": {},
   "outputs": [
    {
     "name": "stdout",
     "output_type": "stream",
     "text": [
      "9068\n"
     ]
    }
   ],
   "source": [
    "print(len(update_set))"
   ]
  },
  {
   "cell_type": "code",
   "execution_count": 10,
   "metadata": {},
   "outputs": [
    {
     "name": "stdout",
     "output_type": "stream",
     "text": [
      "['澳羽赛', '98783']\n"
     ]
    }
   ],
   "source": [
    "print(update_set[0])"
   ]
  },
  {
   "cell_type": "code",
   "execution_count": 11,
   "metadata": {},
   "outputs": [
    {
     "name": "stdout",
     "output_type": "stream",
     "text": [
      "{'alias': ['2012年澳大利亚羽毛球公开赛'], 'data': {'摘要': '2012年澳大利亚羽毛球公开赛，于4月3日至8日在悉尼开赛，奖金： usd120,000，知名球员陶菲克、李炫一、文萨、阮天明、佐佐木翔、西蒙均将出席。本次公开赛在悉尼市的会展中心举行，涵盖男单、女单、男双、女双和混双等全部5项赛事，是伦敦奥运会之前重要的一项积分赛。', '举办地点': '悉尼', '举办时间': '4月3日至8日', '中文名': '2012年澳大利亚羽毛球公开赛', '奖金': 'usd120,000', '义项描述': '2012年澳大利亚羽毛球公开赛', '标签': '体育赛事'}, 'type': ['event']}\n"
     ]
    }
   ],
   "source": [
    "print(kb_data.id2kb['98783'])"
   ]
  },
  {
   "cell_type": "code",
   "execution_count": 12,
   "metadata": {},
   "outputs": [
    {
     "name": "stdout",
     "output_type": "stream",
     "text": [
      "0.10761671928033989\n"
     ]
    }
   ],
   "source": [
    "print(len(update_set)/len(train_data))"
   ]
  },
  {
   "cell_type": "code",
   "execution_count": 13,
   "metadata": {},
   "outputs": [],
   "source": [
    "from topsim import TopSim"
   ]
  },
  {
   "cell_type": "code",
   "execution_count": 14,
   "metadata": {},
   "outputs": [],
   "source": [
    "ts = TopSim(kb_data.kb)"
   ]
  },
  {
   "cell_type": "code",
   "execution_count": 15,
   "metadata": {},
   "outputs": [
    {
     "name": "stdout",
     "output_type": "stream",
     "text": [
      "['澳羽赛', '98783']\n",
      "澳网公开赛\n",
      "{'alias': ['2012年澳大利亚羽毛球公开赛'], 'data': {'摘要': '2012年澳大利亚羽毛球公开赛，于4月3日至8日在悉尼开赛，奖金： usd120,000，知名球员陶菲克、李炫一、文萨、阮天明、佐佐木翔、西蒙均将出席。本次公开赛在悉尼市的会展中心举行，涵盖男单、女单、男双、女双和混双等全部5项赛事，是伦敦奥运会之前重要的一项积分赛。', '举办地点': '悉尼', '举办时间': '4月3日至8日', '中文名': '2012年澳大利亚羽毛球公开赛', '奖金': 'usd120,000', '义项描述': '2012年澳大利亚羽毛球公开赛', '标签': '体育赛事'}, 'type': ['event']}\n",
      "['男主', '19423']\n",
      "男主角\n",
      "{'alias': ['男主角'], 'data': {'摘要': '男主角是戏剧、电影等影视作品和acgn作品中故事的主要男性角色，相对于男主角，还有男配角(次要角色)、路人甲和反派等。', '特点': '主要男性角色', '外文名': 'hero', '中文名': '男主角', '其他名称': '男猪脚', '义项描述': '主要男性角色', '标签': '人物'}, 'type': ['vocabulary']}\n",
      "['一切法无我讲义', '323599']\n",
      "讲义\n",
      "{'alias': ['教授'], 'data': {'摘要': '教授，是一种高等教育体系中的职称。多指在大学或社区学院中执教的资深教师与研究员，但教授与研究员是有区别的。教授有教课的任务，而研究员则没有。教授为大学教师职称的最高级别。中文的教授两字则源于‘传教授业’的字义，是中国古代就已使用的学官名称，在中国汉代、唐代的大学中都设此职位。与英文没有关联。日语中则与中文同用“教授”来称呼大学中的老师。', '外文名': 'professor', '英文缩写': 'prof', '级别': '大学教师职称的最高级别', '中文名': '教授', '义项描述': '教师职称', '标签': '历史'}, 'type': ['thing']}\n",
      "['和县', '272896']\n",
      "太和县\n",
      "{'alias': ['永和县', '永和'], 'data': {'摘要': '永和县，隶属于山西省临汾市，地处吕梁山脉南端，黄河中游晋陕大峡谷东岸，临汾市西北边缘。县境东西宽41公里、南北长46公里，总面积1219平方公里。永和东邻隰县，南连大宁县，北与石楼县接壤，西与陕西延川县一河之隔。永和县总面积为1212平方公里，全县辖2镇5乡，79个行政村，314个自然村，总人口53539人(2002年)。县政府驻城关镇。2009年，永和县地区生产总值完成33878万元，按可比价格计算，比上年增长13.8%。县境有旧石器遗址、新石器遗址、商周墓葬遗址、汉代城堡遗址并出土了大量珍贵文物。永和是中华民族文明的发祥地之一，历史文化、民俗文化、红色文化独具魅力。永和县人类文明的鼻祖伏羲的故里，2008年，永和乾坤湾被列为全市十大特色旅游景点之一。', '行政区类别': '县', '所属地区': '临汾市', '下辖地区': '芝河镇、桑壁镇、南庄乡、坡头乡等', '面积': '1220平方公里', '电话区号': '0357', '方言': '晋语-吕梁片-隰州小片', '邮政区码': '041400', '地理位置': '中国华北，山西省西南部临汾地区西北隅', '行政代码': '141032', '车牌代码': '晋l', '人口': '53539人(2002年)', '著名景点': '红军东征永和纪念馆、黄河乾坤湾', '中文名称': '永和县', '机场': '临汾乔李机场(在建)', '气候条件': '暖温带大陆性季风气候', '政府驻地': '城关镇', '义项描述': '永和县', '标签': '行政区划'}, 'type': ['place']}\n",
      "['扼住命运的咽喉——贝多芬', '92152']\n",
      "扼住命运的咽喉：贝多芬传\n",
      "{'alias': ['扼住命运的咽喉：贝多芬传'], 'data': {'摘要': '《扼住命运的咽喉：贝多芬传》是2018年2月新星出版社出版的图书，作者是费里克斯·胡赫。', '出版时间': '2018年2月', '作者': '费里克斯·胡赫', 'isbn': '9787513329811', '书名': '扼住命运的咽喉：贝多芬传', '出版社': '新星出版社', '义项描述': '扼住命运的咽喉：贝多芬传'}, 'type': ['thing']}\n",
      "['超强兵王在都市', '403325']\n",
      "超级兵王在都市\n",
      "{'alias': ['超级兵王在都市'], 'data': {'摘要': '《超级兵王在都市》的作者是天星石，是一本连载于网络的都市小说。小说主要讲述了曾经的佣兵王者，退隐回到都市，在都市纵横的故事。', '小说进度': '已完结', '作者': '天星石', '最新章节': '第两百零八章 会一直爱么', '中文名': '超级兵王在都市', '义项描述': '天星石小说', '标签': '小说'}, 'type': ['creativework']}\n",
      "['上古卷轴5', '224922']\n",
      "上古卷轴\n",
      "{'alias': ['天际5', '上古轴卷5', '上古天际5', '上古卷轴5 天际', '上古天际', '上古卷轴5：天际', '天际', '上卷古轴5', '上古5', '天际卷轴5', '老滚5'], 'data': {'摘要': '《上古卷轴5：天际》是动作角色扮演游戏系列《上古卷轴》的最新作，由bethesda开发制作。这部游戏设定在《上古卷轴4：湮没》的200年之后。玩家将扮演着人身龙魂的英雄龙裔，踏上将邪恶巨龙奥杜因驱逐至时间尽头的征途。《上古卷轴5：天际》于2011年11月11日登陆pc、ps3、xbox360，《上古卷轴5：天际 特别版》2016年10月28日登陆pc、ps4、xbox one，2017年11月18日登陆nintendo switch', '最新版本': '上古卷轴5：天际 特别版', '主要角色': 'dragonborn(龙裔)', '原版名称': 'the elder scrolls v：skyrim', '制作人': 'todd howard', '游戏类型': 'rpg', '游戏平台': 'pc、ps3、xbox360、ps4、xbox one,nintendo switch', '其他名称': '老滚5 少女卷轴', '游戏引擎': 'creation engine', '游戏画面': '3d', '中文名': '上古卷轴5：天际', '玩家人数': '单人', '所属系列': '《上古卷轴》', '发行日期': '2011年11月11日(pc、ps3、xbox 360),2016年10月28日(pc、ps4、xbox one),2017年11月18日(switch)', '开发商': 'bethesda game studios', '发行商': 'bethesda softworks', '媒介': 'pc', '义项描述': '上古卷轴5：天际', '标签': '游戏作品'}, 'type': ['game']}\n",
      "['2015辽宁卫视春晚', '368694']\n",
      "2016东方卫视春晚\n",
      "{'alias': ['2015年辽宁卫视春节联欢晚会'], 'data': {'摘要': '2015年辽宁卫视春节联欢晚会是2016年2月17日晚19:30在辽宁电视台举办的晚会。', '义项描述': '2015年辽宁卫视春节联欢晚会'}, 'type': ['event']}\n",
      "['中国作家协会第九届全国委员会', '147537']\n",
      "中国作家协会第九次代表大会\n",
      "{'alias': ['中国作家协会第九次代表大会'], 'data': {'摘要': '2016年11月30日，中国文学艺术界联合会第十次全国代表大会、中国作家协会第九次全国代表大会在北京人民大会堂开幕。党和国家领导人习近平、李克强、张德江、俞正声、刘云山、王岐山、张高丽等出席大会。中共中央政治局常委李克强、张德江、俞正声、刘云山、王岐山、张高丽出席大会。', '义项描述': '中国作家协会第九次代表大会'}, 'type': ['thing']}\n",
      "['迅雷下载', '57067']\n",
      "迅雷离线下载\n",
      "{'alias': ['迅雷'], 'data': {'摘要': '迅雷是迅雷公司开发的互联网下载软件。本身不支持上传资源，只提供下载和自主上传。迅雷下载过相关资源，都能有所记录。迅雷是一款基于多资源超线程技术的下载软件，作为“宽带时期的下载工具”，迅雷针对宽带用户做了优化，并同时推出了“智能下载”的服务。2014年4月4日消息，迅雷已完成新一轮3.1亿美元融资，其中小米领投2亿美元，金山软件投资9000万美元，迅雷的原投资方晨兴创投和idg跟投2000万美元。2014年6月24日晚上21点30分宣布在美国纳斯达克成功上市。以发行价每股12美元计算，共计筹资8778万美元。2014年12月8日，国家网信办根据群众举报，对传播色情低俗及虚假谣言信息的迅雷弹窗服务采取关停措施。2017年12月12日，迅雷宣布选举王川出任董事长，原董事长邹胜龙因家庭原因卸任，今后将以董事会成员身份参与迅雷发展。', '外文名': 'thunder', '运行环境': 'winxp/vista/win7/win8/win10', '发行时间': '2003年', '创始人': '邹胜龙 程浩', '中文名': '迅雷', '软件语言': '简体中文', '软件类型': '下载工具软件', '先进技术': '基于多资源超线程技术', '开发商': '深圳市迅雷网络技术有限公司', '软件特色': '智能下载', '董事长': '王川', '官网': 'http://www.xunlei.com', '吉祥物': '蜂鸟', '义项描述': '下载软件', '标签': '软件'}, 'type': ['creativework']}\n"
     ]
    }
   ],
   "source": [
    "for i in range(10):\n",
    "    print(update_set[i])\n",
    "    search = ts.search(update_set[i][0])\n",
    "    print(kb_data.kb[search[0][1][0]])\n",
    "    print(kb_data.id2kb[update_set[i][1]])"
   ]
  },
  {
   "cell_type": "code",
   "execution_count": 16,
   "metadata": {},
   "outputs": [],
   "source": [
    "import jieba\n",
    "class ngram_search(object):\n",
    "    def __init__(self,data,kb,ngram = 4,similarity = 0.4):\n",
    "        self.n = ngram\n",
    "        self.similarity = similarity\n",
    "        self.data = data\n",
    "        self.kb = kb\n",
    "        self.cut_data,self.offset = self.cut_words()\n",
    "        self.ts = TopSim(self.kb)\n",
    "        self.candidates = self.get_candidates(self.similarity)\n",
    "        self.cand_name,self.cand_off = self.get_candidates_name()\n",
    "    def cut_words(self):\n",
    "        print('starting build ngram list')\n",
    "        print('ngram',self.n)\n",
    "        result = []\n",
    "        offset = []\n",
    "        for d in tqdm(self.data):\n",
    "#             print(d)\n",
    "#             print(' '.join(jieba.cut(d)))\n",
    "            tmp = list(jieba.cut(d))\n",
    "            n = len(tmp)\n",
    "            tmp_off = [0]\n",
    "#             tmp_off = [len(''.join(tmp[:i])) for i in range(len(tmp))]\n",
    "            for i in range(len(tmp)-1):\n",
    "                tmp_off.append(tmp_off[-1]+len(tmp[i]))\n",
    "            for j in range(2,self.n+1):\n",
    "                for i in range(j-1,n):\n",
    "                    tmp.append(''.join(tmp[i-j+1:i+1]))\n",
    "                    tmp_off.append(tmp_off[i-j+1])\n",
    "#                     tmp_off.append(''.join(tmp[:i-n+1]))\n",
    "            result.append(tmp)\n",
    "            offset.append(tmp_off)\n",
    "        return result,offset\n",
    "    def get_candidates(self,similarity = 0.5):\n",
    "        self.similarity = similarity\n",
    "        print('starting build candidates list')\n",
    "        print('similarity:',self.similarity)dev_x = [i\n",
    "        candidates = []\n",
    "        for dt in tqdm(self.cut_data):\n",
    "            ts_result = []\n",
    "            for i in dt:\n",
    "                tmp = ts.search(i)\n",
    "                if tmp and tmp[0][0] > self.similarity:\n",
    "                    ts_result.append(tmp)\n",
    "                else:\n",
    "                    ts_result.append([])\n",
    "            candidates.append(ts_result)\n",
    "        return candidates\n",
    "    def get_candidates_name(self):\n",
    "        print('starting get candidates name and offset')\n",
    "        cand_name = []\n",
    "        cand_offset = []\n",
    "        for i in tqdm(range(len(self.candidates))):\n",
    "            cand = []\n",
    "            off = []\n",
    "            for j in range(len(self.candidates[i])):\n",
    "                if self.candidates[i][j]:\n",
    "#                     print(self.candidates[i][j])\n",
    "#                     print(self.candidates[i][j][0][1][0])\n",
    "#                     print(self.kb[self.candidates[i][j][0][1][0]])\n",
    "                    cand.append(self.kb[self.candidates[i][j][0][1][0]])\n",
    "                    off.append(self.offset[i][j])\n",
    "            cand_name.append(cand)\n",
    "            cand_offset.append(off)\n",
    "        return cand_name,cand_offset"
   ]
  },
  {
   "cell_type": "code",
   "execution_count": 17,
   "metadata": {},
   "outputs": [
    {
     "name": "stdout",
     "output_type": "stream",
     "text": [
      "<class 'str'>\n"
     ]
    }
   ],
   "source": [
    "dev_x = [i['text'] for i in dev_data]\n",
    "print(type(dev_x[0]))\n",
    "en = []\n",
    "for i in dev_data:\n",
    "    tmp = []\n",
    "    for j in i['mention_data']:\n",
    "        tmp.append(j[0])\n",
    "    en.append(tmp)"
   ]
  },
  {
   "cell_type": "code",
   "execution_count": 18,
   "metadata": {},
   "outputs": [],
   "source": [
    "# kb_data_test = KB('./ccks2019_el/kb_data')"
   ]
  },
  {
   "cell_type": "code",
   "execution_count": 19,
   "metadata": {},
   "outputs": [],
   "source": [
    "# kb_data_test.update_kb(update_set)"
   ]
  },
  {
   "cell_type": "code",
   "execution_count": 20,
   "metadata": {},
   "outputs": [
    {
     "name": "stderr",
     "output_type": "stream",
     "text": [
      "  0%|          | 0/851 [00:00<?, ?it/s]Building prefix dict from the default dictionary ...\n",
      "Loading model from cache /tmp/jieba.cache\n"
     ]
    },
    {
     "name": "stdout",
     "output_type": "stream",
     "text": [
      "starting build ngram list\n",
      "ngram 4\n"
     ]
    },
    {
     "name": "stderr",
     "output_type": "stream",
     "text": [
      "Loading model cost 0.924 seconds.\n",
      "Prefix dict has been built succesfully.\n",
      "100%|██████████| 851/851 [00:01<00:00, 762.19it/s]\n",
      "  0%|          | 2/851 [00:00<00:52, 16.08it/s]"
     ]
    },
    {
     "name": "stdout",
     "output_type": "stream",
     "text": [
      "starting build candidates list\n",
      "similarity: 0.4\n"
     ]
    },
    {
     "name": "stderr",
     "output_type": "stream",
     "text": [
      "100%|██████████| 851/851 [00:45<00:00, 18.85it/s]\n",
      "100%|██████████| 851/851 [00:00<00:00, 37422.84it/s]"
     ]
    },
    {
     "name": "stdout",
     "output_type": "stream",
     "text": [
      "starting get candidates name and offset\n"
     ]
    },
    {
     "name": "stderr",
     "output_type": "stream",
     "text": [
      "\n"
     ]
    }
   ],
   "source": [
    "ns = ngram_search(dev_x,kb_data.kb)\n",
    "# ns_test = ngram_search(dev_x,kb_data_test.kb)"
   ]
  },
  {
   "cell_type": "code",
   "execution_count": 21,
   "metadata": {},
   "outputs": [],
   "source": [
    "def evaluate_cand(cand_name,ground_truth):\n",
    "    recall = []\n",
    "    precision = []\n",
    "    for i in tqdm(range(len(ground_truth))):\n",
    "        tp = 0\n",
    "        for j in ground_truth[i]:\n",
    "            if j in cand_name[i]:\n",
    "                tp += 1\n",
    "        recall.append(tp/len(ground_truth[i]))\n",
    "        precision.append(tp/len(cand_name[i]))\n",
    "    print('average recall: {}'.format(sum(recall)/len(recall)))\n",
    "    print('average precision: {}'.format(sum(precision)/len(precision)))\n",
    "    return recall, precision\n",
    "        "
   ]
  },
  {
   "cell_type": "code",
   "execution_count": 22,
   "metadata": {},
   "outputs": [
    {
     "name": "stderr",
     "output_type": "stream",
     "text": [
      "100%|██████████| 851/851 [00:00<00:00, 146989.77it/s]"
     ]
    },
    {
     "name": "stdout",
     "output_type": "stream",
     "text": [
      "average recall: 0.9422406878928613\n",
      "average precision: 0.20862911788597688\n"
     ]
    },
    {
     "name": "stderr",
     "output_type": "stream",
     "text": [
      "\n"
     ]
    }
   ],
   "source": [
    "r1,p1 = evaluate_cand(ns.cand_name,en)\n",
    "# r2,p2 = evaluate_cand(ns_test.cand_name,en)"
   ]
  },
  {
   "cell_type": "code",
   "execution_count": 23,
   "metadata": {
    "scrolled": true
   },
   "outputs": [
    {
     "name": "stderr",
     "output_type": "stream",
     "text": [
      "100%|██████████| 851/851 [00:00<00:00, 4614.02it/s]"
     ]
    },
    {
     "name": "stdout",
     "output_type": "stream",
     "text": [
      "starting build ngram list\n",
      "ngram 2\n"
     ]
    },
    {
     "name": "stderr",
     "output_type": "stream",
     "text": [
      "\n",
      "  0%|          | 3/851 [00:00<00:30, 27.49it/s]"
     ]
    },
    {
     "name": "stdout",
     "output_type": "stream",
     "text": [
      "starting build candidates list\n",
      "similarity: 0\n"
     ]
    },
    {
     "name": "stderr",
     "output_type": "stream",
     "text": [
      "100%|██████████| 851/851 [00:24<00:00, 38.49it/s]\n",
      "100%|██████████| 851/851 [00:00<00:00, 38442.14it/s]\n",
      "100%|██████████| 851/851 [00:00<00:00, 186389.18it/s]\n",
      " 49%|████▊     | 414/851 [00:00<00:00, 4137.84it/s]"
     ]
    },
    {
     "name": "stdout",
     "output_type": "stream",
     "text": [
      "starting get candidates name and offset\n",
      "average recall: 0.9194938727547417\n",
      "average precision: 0.12431142408275862\n",
      "starting build ngram list\n",
      "ngram 3\n"
     ]
    },
    {
     "name": "stderr",
     "output_type": "stream",
     "text": [
      "100%|██████████| 851/851 [00:00<00:00, 4316.01it/s]\n",
      "  0%|          | 2/851 [00:00<00:47, 17.95it/s]"
     ]
    },
    {
     "name": "stdout",
     "output_type": "stream",
     "text": [
      "starting build candidates list\n",
      "similarity: 0\n"
     ]
    },
    {
     "name": "stderr",
     "output_type": "stream",
     "text": [
      "100%|██████████| 851/851 [00:35<00:00, 24.27it/s]\n",
      "100%|██████████| 851/851 [00:00<00:00, 29143.52it/s]\n"
     ]
    },
    {
     "name": "stdout",
     "output_type": "stream",
     "text": [
      "starting get candidates name and offset\n"
     ]
    },
    {
     "name": "stderr",
     "output_type": "stream",
     "text": [
      "100%|██████████| 851/851 [00:00<00:00, 256695.63it/s]\n",
      " 46%|████▋     | 395/851 [00:00<00:00, 3941.58it/s]"
     ]
    },
    {
     "name": "stdout",
     "output_type": "stream",
     "text": [
      "average recall: 0.9505665603491686\n",
      "average precision: 0.08961520731101098\n",
      "starting build ngram list\n",
      "ngram 4\n"
     ]
    },
    {
     "name": "stderr",
     "output_type": "stream",
     "text": [
      "100%|██████████| 851/851 [00:00<00:00, 4157.55it/s]\n",
      "  0%|          | 2/851 [00:00<00:49, 17.00it/s]"
     ]
    },
    {
     "name": "stdout",
     "output_type": "stream",
     "text": [
      "starting build candidates list\n",
      "similarity: 0\n"
     ]
    },
    {
     "name": "stderr",
     "output_type": "stream",
     "text": [
      "100%|██████████| 851/851 [00:44<00:00, 18.94it/s]\n",
      "100%|██████████| 851/851 [00:00<00:00, 21558.49it/s]\n"
     ]
    },
    {
     "name": "stdout",
     "output_type": "stream",
     "text": [
      "starting get candidates name and offset\n"
     ]
    },
    {
     "name": "stderr",
     "output_type": "stream",
     "text": [
      "100%|██████████| 851/851 [00:00<00:00, 211554.81it/s]\n",
      " 49%|████▊     | 414/851 [00:00<00:00, 4136.81it/s]"
     ]
    },
    {
     "name": "stdout",
     "output_type": "stream",
     "text": [
      "average recall: 0.9521725141290355\n",
      "average precision: 0.07123612252902027\n",
      "starting build ngram list\n",
      "ngram 5\n"
     ]
    },
    {
     "name": "stderr",
     "output_type": "stream",
     "text": [
      "100%|██████████| 851/851 [00:00<00:00, 4257.33it/s]\n",
      "  0%|          | 2/851 [00:00<01:07, 12.60it/s]"
     ]
    },
    {
     "name": "stdout",
     "output_type": "stream",
     "text": [
      "starting build candidates list\n",
      "similarity: 0\n"
     ]
    },
    {
     "name": "stderr",
     "output_type": "stream",
     "text": [
      "100%|██████████| 851/851 [00:57<00:00,  9.61it/s]\n",
      "100%|██████████| 851/851 [00:00<00:00, 17705.21it/s]\n"
     ]
    },
    {
     "name": "stdout",
     "output_type": "stream",
     "text": [
      "starting get candidates name and offset\n"
     ]
    },
    {
     "name": "stderr",
     "output_type": "stream",
     "text": [
      "100%|██████████| 851/851 [00:00<00:00, 261759.51it/s]\n",
      " 46%|████▌     | 390/851 [00:00<00:00, 3897.93it/s]"
     ]
    },
    {
     "name": "stdout",
     "output_type": "stream",
     "text": [
      "average recall: 0.9535434502825804\n",
      "average precision: 0.0607702607924077\n",
      "starting build ngram list\n",
      "ngram 6\n"
     ]
    },
    {
     "name": "stderr",
     "output_type": "stream",
     "text": [
      "100%|██████████| 851/851 [00:00<00:00, 4145.06it/s]\n",
      "  0%|          | 2/851 [00:00<01:06, 12.82it/s]"
     ]
    },
    {
     "name": "stdout",
     "output_type": "stream",
     "text": [
      "starting build candidates list\n",
      "similarity: 0\n"
     ]
    },
    {
     "name": "stderr",
     "output_type": "stream",
     "text": [
      "100%|██████████| 851/851 [01:08<00:00, 12.41it/s]\n",
      "100%|██████████| 851/851 [00:00<00:00, 13975.54it/s]\n"
     ]
    },
    {
     "name": "stdout",
     "output_type": "stream",
     "text": [
      "starting get candidates name and offset\n"
     ]
    },
    {
     "name": "stderr",
     "output_type": "stream",
     "text": [
      "100%|██████████| 851/851 [00:00<00:00, 189627.20it/s]\n",
      " 46%|████▌     | 388/851 [00:00<00:00, 3879.49it/s]"
     ]
    },
    {
     "name": "stdout",
     "output_type": "stream",
     "text": [
      "average recall: 0.9535434502825804\n",
      "average precision: 0.054248179054653345\n",
      "starting build ngram list\n",
      "ngram 7\n"
     ]
    },
    {
     "name": "stderr",
     "output_type": "stream",
     "text": [
      "100%|██████████| 851/851 [00:00<00:00, 3924.74it/s]\n",
      "  0%|          | 1/851 [00:00<01:25,  9.89it/s]"
     ]
    },
    {
     "name": "stdout",
     "output_type": "stream",
     "text": [
      "starting build candidates list\n",
      "similarity: 0\n"
     ]
    },
    {
     "name": "stderr",
     "output_type": "stream",
     "text": [
      "100%|██████████| 851/851 [01:15<00:00, 11.30it/s]\n",
      "100%|██████████| 851/851 [00:00<00:00, 13147.32it/s]\n"
     ]
    },
    {
     "name": "stdout",
     "output_type": "stream",
     "text": [
      "starting get candidates name and offset\n"
     ]
    },
    {
     "name": "stderr",
     "output_type": "stream",
     "text": [
      "100%|██████████| 851/851 [00:00<00:00, 208174.08it/s]\n",
      " 88%|████████▊ | 752/851 [00:00<00:00, 3801.48it/s]"
     ]
    },
    {
     "name": "stdout",
     "output_type": "stream",
     "text": [
      "average recall: 0.9535434502825804\n",
      "average precision: 0.04997977254602169\n",
      "starting build ngram list\n",
      "ngram 8\n"
     ]
    },
    {
     "name": "stderr",
     "output_type": "stream",
     "text": [
      "100%|██████████| 851/851 [00:00<00:00, 3767.41it/s]\n",
      "  0%|          | 1/851 [00:00<01:46,  7.97it/s]"
     ]
    },
    {
     "name": "stdout",
     "output_type": "stream",
     "text": [
      "starting build candidates list\n",
      "similarity: 0\n"
     ]
    },
    {
     "name": "stderr",
     "output_type": "stream",
     "text": [
      "100%|██████████| 851/851 [01:25<00:00,  8.99it/s]\n",
      "100%|██████████| 851/851 [00:00<00:00, 12653.42it/s]\n"
     ]
    },
    {
     "name": "stdout",
     "output_type": "stream",
     "text": [
      "starting get candidates name and offset\n"
     ]
    },
    {
     "name": "stderr",
     "output_type": "stream",
     "text": [
      "100%|██████████| 851/851 [00:00<00:00, 138406.01it/s]\n",
      " 43%|████▎     | 370/851 [00:00<00:00, 3697.27it/s]"
     ]
    },
    {
     "name": "stdout",
     "output_type": "stream",
     "text": [
      "average recall: 0.9535434502825804\n",
      "average precision: 0.047124003558001205\n",
      "starting build ngram list\n",
      "ngram 9\n"
     ]
    },
    {
     "name": "stderr",
     "output_type": "stream",
     "text": [
      "100%|██████████| 851/851 [00:00<00:00, 3783.40it/s]\n",
      "  0%|          | 1/851 [00:00<01:53,  7.49it/s]"
     ]
    },
    {
     "name": "stdout",
     "output_type": "stream",
     "text": [
      "starting build candidates list\n",
      "similarity: 0\n"
     ]
    },
    {
     "name": "stderr",
     "output_type": "stream",
     "text": [
      "100%|██████████| 851/851 [01:35<00:00,  7.93it/s]\n",
      "100%|██████████| 851/851 [00:00<00:00, 13506.77it/s]\n",
      "  0%|          | 0/851 [00:00<?, ?it/s]"
     ]
    },
    {
     "name": "stdout",
     "output_type": "stream",
     "text": [
      "starting get candidates name and offset\n"
     ]
    },
    {
     "name": "stderr",
     "output_type": "stream",
     "text": [
      "100%|██████████| 851/851 [00:00<00:00, 253415.17it/s]\n",
      " 84%|████████▍ | 719/851 [00:00<00:00, 3534.70it/s]"
     ]
    },
    {
     "name": "stdout",
     "output_type": "stream",
     "text": [
      "average recall: 0.9535434502825804\n",
      "average precision: 0.045181317848886\n",
      "starting build ngram list\n",
      "ngram 10\n"
     ]
    },
    {
     "name": "stderr",
     "output_type": "stream",
     "text": [
      "100%|██████████| 851/851 [00:00<00:00, 3486.85it/s]\n",
      "  0%|          | 1/851 [00:00<01:47,  7.90it/s]"
     ]
    },
    {
     "name": "stdout",
     "output_type": "stream",
     "text": [
      "starting build candidates list\n",
      "similarity: 0\n"
     ]
    },
    {
     "name": "stderr",
     "output_type": "stream",
     "text": [
      "100%|██████████| 851/851 [01:38<00:00,  7.31it/s]\n",
      "100%|██████████| 851/851 [00:00<00:00, 13250.69it/s]\n"
     ]
    },
    {
     "name": "stdout",
     "output_type": "stream",
     "text": [
      "starting get candidates name and offset\n"
     ]
    },
    {
     "name": "stderr",
     "output_type": "stream",
     "text": [
      "100%|██████████| 851/851 [00:00<00:00, 123948.77it/s]"
     ]
    },
    {
     "name": "stdout",
     "output_type": "stream",
     "text": [
      "average recall: 0.9535434502825804\n",
      "average precision: 0.04386174908771406\n"
     ]
    },
    {
     "name": "stderr",
     "output_type": "stream",
     "text": [
      "\n"
     ]
    }
   ],
   "source": [
    "recl = []\n",
    "prec = []\n",
    "for n in range(2,11):\n",
    "    ns_test = ngram_search(dev_x,kb_data.kb,n,0)\n",
    "    tmp1,tmp2 = evaluate_cand(ns_test.cand_name,en)\n",
    "    recl.append(tmp1)\n",
    "    prec.append(tmp2)"
   ]
  },
  {
   "cell_type": "code",
   "execution_count": 27,
   "metadata": {},
   "outputs": [
    {
     "data": {
      "image/png": "[encoded data removed]",
      "text/plain": [
       "<Figure size 432x288 with 2 Axes>"
      ]
     },
     "metadata": {},
     "output_type": "display_data"
    }
   ],
   "source": [
    "import matplotlib.pyplot as plt\n",
    "import numpy as np\n",
    "plt.figure()\n",
    "r = [sum(rec)/len(rec) for rec in recl]\n",
    "p = [sum(pre)/len(pre) for pre in prec]\n",
    "x = np.arange(len(r))\n",
    "plt.subplot(211)\n",
    "plt.plot(x,r)\n",
    "plt.subplot(212)\n",
    "plt.plot(x,p)\n",
    "plt.show()"
   ]
  },
  {
   "cell_type": "code",
   "execution_count": null,
   "metadata": {},
   "outputs": [],
   "source": [
    "plt.plot(r,p)\n",
    "plt.show()"
   ]
  },
  {
   "cell_type": "code",
   "execution_count": 28,
   "metadata": {},
   "outputs": [
    {
     "name": "stderr",
     "output_type": "stream",
     "text": [
      " 46%|████▌     | 390/851 [00:00<00:00, 3883.07it/s]"
     ]
    },
    {
     "name": "stdout",
     "output_type": "stream",
     "text": [
      "starting build ngram list\n",
      "ngram 3\n"
     ]
    },
    {
     "name": "stderr",
     "output_type": "stream",
     "text": [
      "100%|██████████| 851/851 [00:00<00:00, 4075.25it/s]\n",
      "  0%|          | 3/851 [00:00<00:35, 23.90it/s]"
     ]
    },
    {
     "name": "stdout",
     "output_type": "stream",
     "text": [
      "starting build candidates list\n",
      "similarity: 0.0\n"
     ]
    },
    {
     "name": "stderr",
     "output_type": "stream",
     "text": [
      "100%|██████████| 851/851 [00:35<00:00, 23.75it/s]\n",
      "100%|██████████| 851/851 [00:00<00:00, 25776.15it/s]\n"
     ]
    },
    {
     "name": "stdout",
     "output_type": "stream",
     "text": [
      "starting get candidates name and offset\n"
     ]
    },
    {
     "name": "stderr",
     "output_type": "stream",
     "text": [
      "100%|██████████| 851/851 [00:00<00:00, 172967.28it/s]\n",
      "100%|██████████| 851/851 [00:00<00:00, 4623.29it/s]\n"
     ]
    },
    {
     "name": "stdout",
     "output_type": "stream",
     "text": [
      "average recall: 0.9505665603491686\n",
      "average precision: 0.08961520731101098\n",
      "starting build ngram list\n",
      "ngram 3\n"
     ]
    },
    {
     "name": "stderr",
     "output_type": "stream",
     "text": [
      "  0%|          | 3/851 [00:00<00:32, 25.78it/s]"
     ]
    },
    {
     "name": "stdout",
     "output_type": "stream",
     "text": [
      "starting build candidates list\n",
      "similarity: 0.1\n"
     ]
    },
    {
     "name": "stderr",
     "output_type": "stream",
     "text": [
      "100%|██████████| 851/851 [00:35<00:00, 23.70it/s]\n",
      "100%|██████████| 851/851 [00:00<00:00, 26976.99it/s]\n"
     ]
    },
    {
     "name": "stdout",
     "output_type": "stream",
     "text": [
      "starting get candidates name and offset\n"
     ]
    },
    {
     "name": "stderr",
     "output_type": "stream",
     "text": [
      "100%|██████████| 851/851 [00:00<00:00, 173522.25it/s]\n",
      "100%|██████████| 851/851 [00:00<00:00, 4435.98it/s]\n"
     ]
    },
    {
     "name": "stdout",
     "output_type": "stream",
     "text": [
      "average recall: 0.9505665603491686\n",
      "average precision: 0.09073588438171638\n",
      "starting build ngram list\n",
      "ngram 3\n"
     ]
    },
    {
     "name": "stderr",
     "output_type": "stream",
     "text": [
      "  0%|          | 2/851 [00:00<00:43, 19.53it/s]"
     ]
    },
    {
     "name": "stdout",
     "output_type": "stream",
     "text": [
      "starting build candidates list\n",
      "similarity: 0.2\n"
     ]
    },
    {
     "name": "stderr",
     "output_type": "stream",
     "text": [
      "100%|██████████| 851/851 [00:36<00:00, 23.43it/s]\n",
      "100%|██████████| 851/851 [00:00<00:00, 23194.48it/s]\n"
     ]
    },
    {
     "name": "stdout",
     "output_type": "stream",
     "text": [
      "starting get candidates name and offset\n"
     ]
    },
    {
     "name": "stderr",
     "output_type": "stream",
     "text": [
      "100%|██████████| 851/851 [00:00<00:00, 136956.21it/s]\n",
      " 42%|████▏     | 358/851 [00:00<00:00, 3576.26it/s]"
     ]
    },
    {
     "name": "stdout",
     "output_type": "stream",
     "text": [
      "average recall: 0.9498419226680092\n",
      "average precision: 0.10297022935474574\n",
      "starting build ngram list\n",
      "ngram 3\n"
     ]
    },
    {
     "name": "stderr",
     "output_type": "stream",
     "text": [
      "100%|██████████| 851/851 [00:00<00:00, 3345.85it/s]\n",
      "  0%|          | 3/851 [00:00<00:33, 25.04it/s]"
     ]
    },
    {
     "name": "stdout",
     "output_type": "stream",
     "text": [
      "starting build candidates list\n",
      "similarity: 0.3\n"
     ]
    },
    {
     "name": "stderr",
     "output_type": "stream",
     "text": [
      "100%|██████████| 851/851 [00:35<00:00, 23.93it/s]\n",
      "100%|██████████| 851/851 [00:00<00:00, 31398.52it/s]\n"
     ]
    },
    {
     "name": "stdout",
     "output_type": "stream",
     "text": [
      "starting get candidates name and offset\n"
     ]
    },
    {
     "name": "stderr",
     "output_type": "stream",
     "text": [
      "100%|██████████| 851/851 [00:00<00:00, 143048.76it/s]\n",
      "100%|██████████| 851/851 [00:00<00:00, 4791.06it/s]\n"
     ]
    },
    {
     "name": "stdout",
     "output_type": "stream",
     "text": [
      "average recall: 0.9475738160520764\n",
      "average precision: 0.1341932590275719\n",
      "starting build ngram list\n",
      "ngram 3\n"
     ]
    },
    {
     "name": "stderr",
     "output_type": "stream",
     "text": [
      "  0%|          | 3/851 [00:00<00:35, 23.95it/s]"
     ]
    },
    {
     "name": "stdout",
     "output_type": "stream",
     "text": [
      "starting build candidates list\n",
      "similarity: 0.4\n"
     ]
    },
    {
     "name": "stderr",
     "output_type": "stream",
     "text": [
      "100%|██████████| 851/851 [00:33<00:00, 25.26it/s]\n",
      "100%|██████████| 851/851 [00:00<00:00, 34926.20it/s]\n",
      "  0%|          | 0/851 [00:00<?, ?it/s]"
     ]
    },
    {
     "name": "stdout",
     "output_type": "stream",
     "text": [
      "starting get candidates name and offset\n"
     ]
    },
    {
     "name": "stderr",
     "output_type": "stream",
     "text": [
      "100%|██████████| 851/851 [00:00<00:00, 254209.29it/s]\n",
      "100%|██████████| 851/851 [00:00<00:00, 4580.14it/s]\n"
     ]
    },
    {
     "name": "stdout",
     "output_type": "stream",
     "text": [
      "average recall: 0.9394596459813845\n",
      "average precision: 0.2276406214739996\n",
      "starting build ngram list\n",
      "ngram 3\n"
     ]
    },
    {
     "name": "stderr",
     "output_type": "stream",
     "text": [
      "  0%|          | 3/851 [00:00<00:32, 26.37it/s]"
     ]
    },
    {
     "name": "stdout",
     "output_type": "stream",
     "text": [
      "starting build candidates list\n",
      "similarity: 0.5\n"
     ]
    },
    {
     "name": "stderr",
     "output_type": "stream",
     "text": [
      "100%|██████████| 851/851 [00:33<00:00, 25.22it/s]\n",
      "100%|██████████| 851/851 [00:00<00:00, 54148.38it/s]\n",
      "  0%|          | 0/851 [00:00<?, ?it/s]"
     ]
    },
    {
     "name": "stdout",
     "output_type": "stream",
     "text": [
      "starting get candidates name and offset\n"
     ]
    },
    {
     "name": "stderr",
     "output_type": "stream",
     "text": [
      "100%|██████████| 851/851 [00:00<00:00, 177606.24it/s]\n",
      "100%|██████████| 851/851 [00:00<00:00, 4648.40it/s]\n"
     ]
    },
    {
     "name": "stdout",
     "output_type": "stream",
     "text": [
      "average recall: 0.9253390035998725\n",
      "average precision: 0.3014931725912347\n",
      "starting build ngram list\n",
      "ngram 3\n"
     ]
    },
    {
     "name": "stderr",
     "output_type": "stream",
     "text": [
      "  0%|          | 2/851 [00:00<00:42, 19.80it/s]"
     ]
    },
    {
     "name": "stdout",
     "output_type": "stream",
     "text": [
      "starting build candidates list\n",
      "similarity: 0.6\n"
     ]
    },
    {
     "name": "stderr",
     "output_type": "stream",
     "text": [
      "100%|██████████| 851/851 [00:33<00:00, 25.22it/s]\n",
      "100%|██████████| 851/851 [00:00<00:00, 56331.81it/s]\n"
     ]
    },
    {
     "name": "stdout",
     "output_type": "stream",
     "text": [
      "starting get candidates name and offset\n"
     ]
    },
    {
     "name": "stderr",
     "output_type": "stream",
     "text": [
      "100%|██████████| 851/851 [00:00<00:00, 338295.20it/s]\n",
      "100%|██████████| 851/851 [00:00<00:00, 4612.04it/s]\n"
     ]
    },
    {
     "name": "stdout",
     "output_type": "stream",
     "text": [
      "average recall: 0.9045791132747649\n",
      "average precision: 0.3334597778012105\n",
      "starting build ngram list\n",
      "ngram 3\n"
     ]
    },
    {
     "name": "stderr",
     "output_type": "stream",
     "text": [
      "  0%|          | 3/851 [00:00<00:34, 24.87it/s]"
     ]
    },
    {
     "name": "stdout",
     "output_type": "stream",
     "text": [
      "starting build candidates list\n",
      "similarity: 0.7\n"
     ]
    },
    {
     "name": "stderr",
     "output_type": "stream",
     "text": [
      "100%|██████████| 851/851 [00:34<00:00, 24.86it/s]\n",
      "100%|██████████| 851/851 [00:00<00:00, 58292.28it/s]\n"
     ]
    },
    {
     "name": "stdout",
     "output_type": "stream",
     "text": [
      "starting get candidates name and offset\n"
     ]
    },
    {
     "name": "stderr",
     "output_type": "stream",
     "text": [
      "100%|██████████| 851/851 [00:00<00:00, 279423.26it/s]\n",
      "100%|██████████| 851/851 [00:00<00:00, 4927.11it/s]\n"
     ]
    },
    {
     "name": "stdout",
     "output_type": "stream",
     "text": [
      "average recall: 0.8948454665845965\n",
      "average precision: 0.3451870147202631\n",
      "starting build ngram list\n",
      "ngram 3\n"
     ]
    },
    {
     "name": "stderr",
     "output_type": "stream",
     "text": [
      "  0%|          | 3/851 [00:00<00:33, 25.65it/s]"
     ]
    },
    {
     "name": "stdout",
     "output_type": "stream",
     "text": [
      "starting build candidates list\n",
      "similarity: 0.8\n"
     ]
    },
    {
     "name": "stderr",
     "output_type": "stream",
     "text": [
      "100%|██████████| 851/851 [00:34<00:00, 24.81it/s]\n",
      "100%|██████████| 851/851 [00:00<00:00, 47509.65it/s]\n"
     ]
    },
    {
     "name": "stdout",
     "output_type": "stream",
     "text": [
      "starting get candidates name and offset\n"
     ]
    },
    {
     "name": "stderr",
     "output_type": "stream",
     "text": [
      "100%|██████████| 851/851 [00:00<00:00, 343901.41it/s]\n",
      "100%|██████████| 851/851 [00:00<00:00, 4443.90it/s]\n"
     ]
    },
    {
     "name": "stdout",
     "output_type": "stream",
     "text": [
      "average recall: 0.8940620744968567\n",
      "average precision: 0.347444562629985\n",
      "starting build ngram list\n",
      "ngram 3\n"
     ]
    },
    {
     "name": "stderr",
     "output_type": "stream",
     "text": [
      "  0%|          | 3/851 [00:00<00:32, 26.27it/s]"
     ]
    },
    {
     "name": "stdout",
     "output_type": "stream",
     "text": [
      "starting build candidates list\n",
      "similarity: 0.9\n"
     ]
    },
    {
     "name": "stderr",
     "output_type": "stream",
     "text": [
      "100%|██████████| 851/851 [00:33<00:00, 25.25it/s]\n",
      "100%|██████████| 851/851 [00:00<00:00, 41239.88it/s]\n"
     ]
    },
    {
     "name": "stdout",
     "output_type": "stream",
     "text": [
      "starting get candidates name and offset\n"
     ]
    },
    {
     "name": "stderr",
     "output_type": "stream",
     "text": [
      "100%|██████████| 851/851 [00:00<00:00, 179310.39it/s]"
     ]
    },
    {
     "name": "stdout",
     "output_type": "stream",
     "text": [
      "average recall: 0.8940620744968567\n",
      "average precision: 0.347444562629985\n"
     ]
    },
    {
     "name": "stderr",
     "output_type": "stream",
     "text": [
      "\n"
     ]
    }
   ],
   "source": [
    "recl1  = []\n",
    "prec1  = []\n",
    "for i in range(10):\n",
    "    ns_test = ngram_search(dev_x,kb_data.kb,3,i/10)\n",
    "    tmp1,tmp2 = evaluate_cand(ns_test.cand_name,en)\n",
    "    recl1.append(tmp1)\n",
    "    prec1.append(tmp2)"
   ]
  },
  {
   "cell_type": "code",
   "execution_count": 33,
   "metadata": {},
   "outputs": [
    {
     "data": {
      "text/plain": [
       "[<matplotlib.lines.Line2D at 0x7fe5182d6588>]"
      ]
     },
     "execution_count": 33,
     "metadata": {},
     "output_type": "execute_result"
    },
    {
     "data": {
      "image/png": "[encoded data removed]",
      "text/plain": [
       "<Figure size 432x288 with 2 Axes>"
      ]
     },
     "metadata": {},
     "output_type": "display_data"
    }
   ],
   "source": [
    "import matplotlib.pyplot as plt\n",
    "plt.figure()\n",
    "r = [sum(rec)/len(rec) for rec in recl1]\n",
    "p = [sum(pre)/len(pre) for pre in prec1]\n",
    "x = np.arange(len(r))\n",
    "plt.subplot(211)\n",
    "plt.plot(x,r)\n",
    "plt.subplot(212)\n",
    "plt.plot(x,p)\n",
    "# plt.subplot(133)\n"
   ]
  },
  {
   "cell_type": "code",
   "execution_count": 32,
   "metadata": {},
   "outputs": [
    {
     "data": {
      "image/png": "[encoded data removed]",
      "text/plain": [
       "<Figure size 432x288 with 1 Axes>"
      ]
     },
     "metadata": {},
     "output_type": "display_data"
    }
   ],
   "source": [
    "plt.plot(r,p)\n",
    "plt.show()"
   ]
  },
  {
   "cell_type": "code",
   "execution_count": 35,
   "metadata": {},
   "outputs": [
    {
     "name": "stderr",
     "output_type": "stream",
     "text": [
      "100%|██████████| 851/851 [00:00<00:00, 4337.04it/s]"
     ]
    },
    {
     "name": "stdout",
     "output_type": "stream",
     "text": [
      "starting build ngram list\n",
      "ngram 4\n"
     ]
    },
    {
     "name": "stderr",
     "output_type": "stream",
     "text": [
      "\n",
      "  0%|          | 2/851 [00:00<00:51, 16.34it/s]"
     ]
    },
    {
     "name": "stdout",
     "output_type": "stream",
     "text": [
      "starting build candidates list\n",
      "similarity: 0.0\n"
     ]
    },
    {
     "name": "stderr",
     "output_type": "stream",
     "text": [
      "100%|██████████| 851/851 [00:45<00:00, 18.86it/s]\n",
      "100%|██████████| 851/851 [00:00<00:00, 23057.54it/s]\n"
     ]
    },
    {
     "name": "stdout",
     "output_type": "stream",
     "text": [
      "starting get candidates name and offset\n"
     ]
    },
    {
     "name": "stderr",
     "output_type": "stream",
     "text": [
      "100%|██████████| 851/851 [00:00<00:00, 199293.84it/s]\n",
      " 52%|█████▏    | 446/851 [00:00<00:00, 4448.07it/s]"
     ]
    },
    {
     "name": "stdout",
     "output_type": "stream",
     "text": [
      "average recall: 0.9521725141290355\n",
      "average precision: 0.07123612252902027\n",
      "starting build ngram list\n",
      "ngram 4\n"
     ]
    },
    {
     "name": "stderr",
     "output_type": "stream",
     "text": [
      "100%|██████████| 851/851 [00:00<00:00, 4123.01it/s]\n",
      "  0%|          | 2/851 [00:00<00:48, 17.51it/s]"
     ]
    },
    {
     "name": "stdout",
     "output_type": "stream",
     "text": [
      "starting build candidates list\n",
      "similarity: 0.1\n"
     ]
    },
    {
     "name": "stderr",
     "output_type": "stream",
     "text": [
      "100%|██████████| 851/851 [00:45<00:00, 18.79it/s]\n",
      "100%|██████████| 851/851 [00:00<00:00, 22111.11it/s]\n",
      "  0%|          | 0/851 [00:00<?, ?it/s]"
     ]
    },
    {
     "name": "stdout",
     "output_type": "stream",
     "text": [
      "starting get candidates name and offset\n"
     ]
    },
    {
     "name": "stderr",
     "output_type": "stream",
     "text": [
      "100%|██████████| 851/851 [00:00<00:00, 269751.56it/s]\n",
      "100%|██████████| 851/851 [00:00<00:00, 4365.84it/s]\n"
     ]
    },
    {
     "name": "stdout",
     "output_type": "stream",
     "text": [
      "average recall: 0.9521725141290355\n",
      "average precision: 0.0719810803122966\n",
      "starting build ngram list\n",
      "ngram 4\n"
     ]
    },
    {
     "name": "stderr",
     "output_type": "stream",
     "text": [
      "  0%|          | 2/851 [00:00<00:48, 17.54it/s]"
     ]
    },
    {
     "name": "stdout",
     "output_type": "stream",
     "text": [
      "starting build candidates list\n",
      "similarity: 0.2\n"
     ]
    },
    {
     "name": "stderr",
     "output_type": "stream",
     "text": [
      "100%|██████████| 851/851 [00:45<00:00, 18.66it/s]\n",
      "100%|██████████| 851/851 [00:00<00:00, 25683.60it/s]\n"
     ]
    },
    {
     "name": "stdout",
     "output_type": "stream",
     "text": [
      "starting get candidates name and offset\n"
     ]
    },
    {
     "name": "stderr",
     "output_type": "stream",
     "text": [
      "100%|██████████| 851/851 [00:00<00:00, 296457.87it/s]\n",
      "100%|██████████| 851/851 [00:00<00:00, 4607.69it/s]\n"
     ]
    },
    {
     "name": "stdout",
     "output_type": "stream",
     "text": [
      "average recall: 0.951447876447876\n",
      "average precision: 0.08299827107020495\n",
      "starting build ngram list\n",
      "ngram 4\n"
     ]
    },
    {
     "name": "stderr",
     "output_type": "stream",
     "text": [
      "  0%|          | 2/851 [00:00<00:49, 17.17it/s]"
     ]
    },
    {
     "name": "stdout",
     "output_type": "stream",
     "text": [
      "starting build candidates list\n",
      "similarity: 0.3\n"
     ]
    },
    {
     "name": "stderr",
     "output_type": "stream",
     "text": [
      "100%|██████████| 851/851 [00:44<00:00, 19.10it/s]\n",
      "100%|██████████| 851/851 [00:00<00:00, 31099.51it/s]\n"
     ]
    },
    {
     "name": "stdout",
     "output_type": "stream",
     "text": [
      "starting get candidates name and offset\n"
     ]
    },
    {
     "name": "stderr",
     "output_type": "stream",
     "text": [
      "100%|██████████| 851/851 [00:00<00:00, 139678.83it/s]\n",
      "100%|██████████| 851/851 [00:00<00:00, 4542.69it/s]\n"
     ]
    },
    {
     "name": "stdout",
     "output_type": "stream",
     "text": [
      "average recall: 0.9491797698319432\n",
      "average precision: 0.11842653751563575\n",
      "starting build ngram list\n",
      "ngram 4\n"
     ]
    },
    {
     "name": "stderr",
     "output_type": "stream",
     "text": [
      "  0%|          | 2/851 [00:00<00:48, 17.38it/s]"
     ]
    },
    {
     "name": "stdout",
     "output_type": "stream",
     "text": [
      "starting build candidates list\n",
      "similarity: 0.4\n"
     ]
    },
    {
     "name": "stderr",
     "output_type": "stream",
     "text": [
      "100%|██████████| 851/851 [00:44<00:00, 19.06it/s]\n",
      "100%|██████████| 851/851 [00:00<00:00, 33724.36it/s]\n",
      "  0%|          | 0/851 [00:00<?, ?it/s]"
     ]
    },
    {
     "name": "stdout",
     "output_type": "stream",
     "text": [
      "starting get candidates name and offset\n"
     ]
    },
    {
     "name": "stderr",
     "output_type": "stream",
     "text": [
      "100%|██████████| 851/851 [00:00<00:00, 282452.54it/s]\n",
      " 99%|█████████▊| 840/851 [00:00<00:00, 4046.14it/s]"
     ]
    },
    {
     "name": "stdout",
     "output_type": "stream",
     "text": [
      "average recall: 0.9422406878928613\n",
      "average precision: 0.20862911788597688\n",
      "starting build ngram list\n",
      "ngram 4\n"
     ]
    },
    {
     "name": "stderr",
     "output_type": "stream",
     "text": [
      "100%|██████████| 851/851 [00:00<00:00, 4181.29it/s]\n",
      "  0%|          | 2/851 [00:00<00:50, 16.88it/s]"
     ]
    },
    {
     "name": "stdout",
     "output_type": "stream",
     "text": [
      "starting build candidates list\n",
      "similarity: 0.5\n"
     ]
    },
    {
     "name": "stderr",
     "output_type": "stream",
     "text": [
      "100%|██████████| 851/851 [00:44<00:00, 19.06it/s]\n",
      "100%|██████████| 851/851 [00:00<00:00, 41409.73it/s]\n",
      "  0%|          | 0/851 [00:00<?, ?it/s]"
     ]
    },
    {
     "name": "stdout",
     "output_type": "stream",
     "text": [
      "starting get candidates name and offset\n"
     ]
    },
    {
     "name": "stderr",
     "output_type": "stream",
     "text": [
      "100%|██████████| 851/851 [00:00<00:00, 281983.94it/s]\n",
      "100%|██████████| 851/851 [00:00<00:00, 4598.08it/s]\n"
     ]
    },
    {
     "name": "stdout",
     "output_type": "stream",
     "text": [
      "average recall: 0.936639434465521\n",
      "average precision: 0.290554662322251\n",
      "starting build ngram list\n",
      "ngram 4\n"
     ]
    },
    {
     "name": "stderr",
     "output_type": "stream",
     "text": [
      "  0%|          | 2/851 [00:00<00:50, 16.84it/s]"
     ]
    },
    {
     "name": "stdout",
     "output_type": "stream",
     "text": [
      "starting build candidates list\n",
      "similarity: 0.6\n"
     ]
    },
    {
     "name": "stderr",
     "output_type": "stream",
     "text": [
      "100%|██████████| 851/851 [00:44<00:00, 19.09it/s]\n",
      "100%|██████████| 851/851 [00:00<00:00, 43246.01it/s]\n"
     ]
    },
    {
     "name": "stdout",
     "output_type": "stream",
     "text": [
      "starting get candidates name and offset\n"
     ]
    },
    {
     "name": "stderr",
     "output_type": "stream",
     "text": [
      "100%|██████████| 851/851 [00:00<00:00, 291470.91it/s]\n",
      "100%|██████████| 851/851 [00:00<00:00, 4646.52it/s]\n"
     ]
    },
    {
     "name": "stdout",
     "output_type": "stream",
     "text": [
      "average recall: 0.9295497360714746\n",
      "average precision: 0.3298326484085003\n",
      "starting build ngram list\n",
      "ngram 4\n"
     ]
    },
    {
     "name": "stderr",
     "output_type": "stream",
     "text": [
      "  0%|          | 2/851 [00:00<00:51, 16.58it/s]"
     ]
    },
    {
     "name": "stdout",
     "output_type": "stream",
     "text": [
      "starting build candidates list\n",
      "similarity: 0.7\n"
     ]
    },
    {
     "name": "stderr",
     "output_type": "stream",
     "text": [
      "100%|██████████| 851/851 [00:44<00:00, 19.04it/s]\n",
      "100%|██████████| 851/851 [00:00<00:00, 54971.47it/s]\n"
     ]
    },
    {
     "name": "stdout",
     "output_type": "stream",
     "text": [
      "starting get candidates name and offset\n"
     ]
    },
    {
     "name": "stderr",
     "output_type": "stream",
     "text": [
      "100%|██████████| 851/851 [00:00<00:00, 108815.09it/s]\n",
      "100%|██████████| 851/851 [00:00<00:00, 4522.44it/s]\n"
     ]
    },
    {
     "name": "stdout",
     "output_type": "stream",
     "text": [
      "average recall: 0.9236351258090382\n",
      "average precision: 0.3503564044804457\n",
      "starting build ngram list\n",
      "ngram 4\n"
     ]
    },
    {
     "name": "stderr",
     "output_type": "stream",
     "text": [
      "  0%|          | 2/851 [00:00<00:48, 17.59it/s]"
     ]
    },
    {
     "name": "stdout",
     "output_type": "stream",
     "text": [
      "starting build candidates list\n",
      "similarity: 0.8\n"
     ]
    },
    {
     "name": "stderr",
     "output_type": "stream",
     "text": [
      "100%|██████████| 851/851 [00:44<00:00, 19.13it/s]\n",
      "100%|██████████| 851/851 [00:00<00:00, 51141.99it/s]\n"
     ]
    },
    {
     "name": "stdout",
     "output_type": "stream",
     "text": [
      "starting get candidates name and offset\n"
     ]
    },
    {
     "name": "stderr",
     "output_type": "stream",
     "text": [
      "100%|██████████| 851/851 [00:00<00:00, 289227.19it/s]\n",
      "100%|██████████| 851/851 [00:00<00:00, 4450.60it/s]\n"
     ]
    },
    {
     "name": "stdout",
     "output_type": "stream",
     "text": [
      "average recall: 0.9222641896554934\n",
      "average precision: 0.35325588129296603\n",
      "starting build ngram list\n",
      "ngram 4\n"
     ]
    },
    {
     "name": "stderr",
     "output_type": "stream",
     "text": [
      "  0%|          | 2/851 [00:00<00:50, 16.97it/s]"
     ]
    },
    {
     "name": "stdout",
     "output_type": "stream",
     "text": [
      "starting build candidates list\n",
      "similarity: 0.9\n"
     ]
    },
    {
     "name": "stderr",
     "output_type": "stream",
     "text": [
      "100%|██████████| 851/851 [00:44<00:00, 19.16it/s]\n",
      "100%|██████████| 851/851 [00:00<00:00, 52858.16it/s]\n"
     ]
    },
    {
     "name": "stdout",
     "output_type": "stream",
     "text": [
      "starting get candidates name and offset\n"
     ]
    },
    {
     "name": "stderr",
     "output_type": "stream",
     "text": [
      "100%|██████████| 851/851 [00:00<00:00, 340879.83it/s]"
     ]
    },
    {
     "name": "stdout",
     "output_type": "stream",
     "text": [
      "average recall: 0.9222641896554934\n",
      "average precision: 0.35325588129296603\n"
     ]
    },
    {
     "name": "stderr",
     "output_type": "stream",
     "text": [
      "\n"
     ]
    }
   ],
   "source": [
    "recl1  = []\n",
    "prec1  = []\n",
    "for i in range(10):\n",
    "    ns_test = ngram_search(dev_x,kb_data.kb,4,i/10)\n",
    "    tmp1,tmp2 = evaluate_cand(ns_test.cand_name,en)\n",
    "    recl1.append(tmp1)\n",
    "    prec1.append(tmp2)"
   ]
  },
  {
   "cell_type": "code",
   "execution_count": 36,
   "metadata": {},
   "outputs": [
    {
     "data": {
      "text/plain": [
       "[<matplotlib.lines.Line2D at 0x7fe5182ded68>]"
      ]
     },
     "execution_count": 36,
     "metadata": {},
     "output_type": "execute_result"
    },
    {
     "data": {
      "image/png": "[encoded data removed]",
      "text/plain": [
       "<Figure size 432x288 with 2 Axes>"
      ]
     },
     "metadata": {},
     "output_type": "display_data"
    }
   ],
   "source": [
    "import matplotlib.pyplot as plt\n",
    "plt.figure()\n",
    "r = [sum(rec)/len(rec) for rec in recl1]\n",
    "p = [sum(pre)/len(pre) for pre in prec1]\n",
    "x = np.arange(len(r))\n",
    "plt.subplot(211)\n",
    "plt.plot(x,r)\n",
    "plt.subplot(212)\n",
    "plt.plot(x,p)"
   ]
  },
  {
   "cell_type": "code",
   "execution_count": 37,
   "metadata": {},
   "outputs": [
    {
     "data": {
      "image/png": "[encoded data removed]",
      "text/plain": [
       "<Figure size 432x288 with 1 Axes>"
      ]
     },
     "metadata": {},
     "output_type": "display_data"
    }
   ],
   "source": [
    "plt.plot(r,p)\n",
    "plt.show()"
   ]
  },
  {
   "cell_type": "code",
   "execution_count": null,
   "metadata": {},
   "outputs": [],
   "source": []
  }
 ],
 "metadata": {
  "kernelspec": {
   "display_name": "Python 3",
   "language": "python",
   "name": "python3"
  },
  "language_info": {
   "codemirror_mode": {
    "name": "ipython",
    "version": 3
   },
   "file_extension": ".py",
   "mimetype": "text/x-python",
   "name": "python",
   "nbconvert_exporter": "python",
   "pygments_lexer": "ipython3",
   "version": "3.6.7"
  }
 },
 "nbformat": 4,
 "nbformat_minor": 2
}
