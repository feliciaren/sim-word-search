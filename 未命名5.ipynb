{
 "cells": [
  {
   "cell_type": "code",
   "execution_count": 1,
   "metadata": {},
   "outputs": [],
   "source": [
    "from collections import Counter\n",
    "from itertools import count\n",
    "\n",
    "from heapq import heappush, heappop\n",
    "from collections import defaultdict\n",
    "\n",
    "from extratools.settools import addtoset\n",
    "\n",
    "from functools import partial\n",
    "import re\n",
    "\n",
    "from extratools.strtools import str2grams\n",
    "from extratools.dicttools import invertedindex"
   ]
  },
  {
   "cell_type": "code",
   "execution_count": 9,
   "metadata": {},
   "outputs": [
    {
     "name": "stdout",
     "output_type": "stream",
     "text": [
      "['a', 'a']\n"
     ]
    }
   ],
   "source": [
    "# 正则表达式，\\W:不匹配大小写字母下划线,再加上下划线\n",
    "reSplit = re.compile(r\"[_\\W]+\", re.U)\n",
    "print(reSplit.split('a_a'))"
   ]
  },
  {
   "cell_type": "code",
   "execution_count": 14,
   "metadata": {},
   "outputs": [],
   "source": [
    "def str2words(s):\n",
    "    return [w for w in reSplit.split(s) if len(w) > 0]"
   ]
  },
  {
   "cell_type": "code",
   "execution_count": 18,
   "metadata": {},
   "outputs": [
    {
     "name": "stdout",
     "output_type": "stream",
     "text": [
      "{'b': 0, 'c': 1, 'a': 2}\n"
     ]
    }
   ],
   "source": [
    "# 创建str2int的字典，按照出现的频率排序\n",
    "def createGramMap(sRawStrSets):\n",
    "    gramFreqs: Counter = Counter()\n",
    "\n",
    "    for sRawStrSet in sRawStrSets:\n",
    "        gramFreqs.update(sRawStrSet)\n",
    "\n",
    "    gramMapper = count(start=0)\n",
    "\n",
    "    return {\n",
    "        gram: next(gramMapper)\n",
    "        for gram, _ in sorted(\n",
    "            gramFreqs.items(),\n",
    "            key=lambda x: (x[1], x[0])\n",
    "        )\n",
    "    }\n",
    "a = [['a','b','c'],['a','a','a']]\n",
    "a_map = createGramMap(a)\n",
    "print(a_map)"
   ]
  },
  {
   "cell_type": "code",
   "execution_count": 19,
   "metadata": {},
   "outputs": [
    {
     "name": "stdout",
     "output_type": "stream",
     "text": [
      "{'b': 0, 'c': 1, 'a': 2, 'd': -1, 'e': -2}\n"
     ]
    }
   ],
   "source": [
    "def updateGramMap(gramMap,rRawStrSet):\n",
    "    gramMapper = count(start=-1, step=-1)\n",
    "\n",
    "    gramMap.update(\n",
    "        (gram, next(gramMapper))\n",
    "        for gram in rRawStrSet\n",
    "        if gram not in gramMap\n",
    "    )\n",
    "b = ['c','d','e']\n",
    "updateGramMap(a_map,b)\n",
    "print(a_map)"
   ]
  },
  {
   "cell_type": "code",
   "execution_count": 21,
   "metadata": {},
   "outputs": [
    {
     "name": "stdout",
     "output_type": "stream",
     "text": [
      "[2, 0, 1]\n"
     ]
    }
   ],
   "source": [
    "def applyGramMap(gramMap,rRawStrSet):\n",
    "    return [gramMap[gram] for gram in rRawStrSet]\n",
    "#     return sorted(gramMap[gram] for gram in rRawStrSet)\n",
    "a_result = applyGramMap(a_map,['a','b','c'])\n",
    "print(a_result)"
   ]
  },
  {
   "cell_type": "code",
   "execution_count": 22,
   "metadata": {},
   "outputs": [],
   "source": [
    "import Levenshtein"
   ]
  },
  {
   "cell_type": "code",
   "execution_count": 29,
   "metadata": {},
   "outputs": [
    {
     "name": "stdout",
     "output_type": "stream",
     "text": [
      "1\n",
      "0.8\n"
     ]
    }
   ],
   "source": [
    "d = Levenshtein.distance(u'我吃大米饭',u'我吃大米')\n",
    "print(d)\n",
    "print(1- d/len(u'我吃大米饭'))"
   ]
  },
  {
   "cell_type": "code",
   "execution_count": null,
   "metadata": {},
   "outputs": [],
   "source": [
    "d = Levenshtein.distance(u'我爱吃大米饭',u'我爱吃大米')"
   ]
  },
  {
   "cell_type": "code",
   "execution_count": 30,
   "metadata": {},
   "outputs": [],
   "source": [
    "def edit_distance(a,b):\n",
    "    return safediv(Levenshtein.distance(a,b)/len(a))"
   ]
  },
  {
   "cell_type": "code",
   "execution_count": 31,
   "metadata": {},
   "outputs": [
    {
     "ename": "NameError",
     "evalue": "name 'StringSet' is not defined",
     "output_type": "error",
     "traceback": [
      "\u001b[0;31m---------------------------------------------------------------------------\u001b[0m",
      "\u001b[0;31mNameError\u001b[0m                                 Traceback (most recent call last)",
      "\u001b[0;32m<ipython-input-31-4a1eb8a09bfc>\u001b[0m in \u001b[0;36m<module>\u001b[0;34m()\u001b[0m\n\u001b[1;32m      1\u001b[0m def findBest(\n\u001b[0;32m----> 2\u001b[0;31m         \u001b[0mrStr\u001b[0m\u001b[0;34m:\u001b[0m \u001b[0mStringSet\u001b[0m\u001b[0;34m,\u001b[0m\u001b[0;34m\u001b[0m\u001b[0;34m\u001b[0m\u001b[0m\n\u001b[0m\u001b[1;32m      3\u001b[0m         \u001b[0msStrs\u001b[0m\u001b[0;34m:\u001b[0m \u001b[0mList\u001b[0m\u001b[0;34m[\u001b[0m\u001b[0mStringSet\u001b[0m\u001b[0;34m]\u001b[0m\u001b[0;34m,\u001b[0m \u001b[0msIndex\u001b[0m\u001b[0;34m:\u001b[0m \u001b[0mIndex\u001b[0m\u001b[0;34m,\u001b[0m\u001b[0;34m\u001b[0m\u001b[0;34m\u001b[0m\u001b[0m\n\u001b[1;32m      4\u001b[0m         \u001b[0mk\u001b[0m\u001b[0;34m:\u001b[0m \u001b[0mint\u001b[0m\u001b[0;34m,\u001b[0m \u001b[0mtie\u001b[0m\u001b[0;34m:\u001b[0m \u001b[0mbool\u001b[0m\u001b[0;34m,\u001b[0m\u001b[0;34m\u001b[0m\u001b[0;34m\u001b[0m\u001b[0m\n\u001b[1;32m      5\u001b[0m         \u001b[0mupBoundFunc\u001b[0m\u001b[0;34m:\u001b[0m \u001b[0mCallable\u001b[0m\u001b[0;34m[\u001b[0m\u001b[0;34m[\u001b[0m\u001b[0mint\u001b[0m\u001b[0;34m,\u001b[0m \u001b[0mint\u001b[0m\u001b[0;34m,\u001b[0m \u001b[0mint\u001b[0m\u001b[0;34m,\u001b[0m \u001b[0mint\u001b[0m\u001b[0;34m,\u001b[0m \u001b[0mint\u001b[0m\u001b[0;34m]\u001b[0m\u001b[0;34m,\u001b[0m \u001b[0mfloat\u001b[0m\u001b[0;34m]\u001b[0m\u001b[0;34m\u001b[0m\u001b[0;34m\u001b[0m\u001b[0m\n",
      "\u001b[0;31mNameError\u001b[0m: name 'StringSet' is not defined"
     ]
    }
   ],
   "source": [
    "def findBest(\n",
    "        rStr: StringSet,\n",
    "        sStrs: List[StringSet], sIndex: Index,\n",
    "        k: int, tie: bool,\n",
    "        upBoundFunc: Callable[[int, int, int, int, int], float]\n",
    "    ) -> Output:\n",
    "    worstSim = 0.0\n",
    "    totalNum = 0\n",
    "\n",
    "    simHeap: List[float] = []\n",
    "    simMap: Dict[float, List[int]] = defaultdict(list)\n",
    "\n",
    "    lnSet: Set[int] = set()\n",
    "    for i, item in enumerate(rStr):\n",
    "        if upBoundFunc(len(rStr), i + 1, len(rStr) - (i + 1) + 1, 1, 1) < worstSim:\n",
    "            break\n",
    "\n",
    "        for ln, p in sIndex[item]:\n",
    "            if not addtoset(lnSet, ln):\n",
    "                continue\n",
    "\n",
    "            currSim = checkSim(\n",
    "                worstSim, upBoundFunc,\n",
    "                rStr, sStrs[ln], i + 1, p + 1, 1\n",
    "            )\n",
    "            if currSim is None:\n",
    "                continue\n",
    "\n",
    "            if currSim not in simMap:\n",
    "                heappush(simHeap, currSim)\n",
    "            simMap[currSim].append(ln)\n",
    "            totalNum += 1\n",
    "\n",
    "            if totalNum > k:\n",
    "                currWorstSim = simHeap[0]\n",
    "                currWorstNum = len(simMap[currWorstSim])\n",
    "\n",
    "                if totalNum - currWorstNum >= k:\n",
    "                    del simMap[currWorstSim]\n",
    "                    totalNum -= currWorstNum\n",
    "                    heappop(simHeap)\n",
    "                elif not tie:\n",
    "                    del simMap[currWorstSim][currWorstNum - (totalNum - k):]\n",
    "                    totalNum = k\n",
    "\n",
    "            if totalNum >= k:\n",
    "                worstSim = simHeap[0]\n",
    "\n",
    "    return sorted(simMap.items(), key=lambda x: x[0], reverse=True)"
   ]
  },
  {
   "cell_type": "code",
   "execution_count": null,
   "metadata": {},
   "outputs": [],
   "source": []
  }
 ],
 "metadata": {
  "kernelspec": {
   "display_name": "Python 3",
   "language": "python",
   "name": "python3"
  },
  "language_info": {
   "codemirror_mode": {
    "name": "ipython",
    "version": 3
   },
   "file_extension": ".py",
   "mimetype": "text/x-python",
   "name": "python",
   "nbconvert_exporter": "python",
   "pygments_lexer": "ipython3",
   "version": "3.6.7"
  }
 },
 "nbformat": 4,
 "nbformat_minor": 2
}
