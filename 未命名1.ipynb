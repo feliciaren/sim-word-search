{
 "cells": [
  {
   "cell_type": "code",
   "execution_count": 1,
   "metadata": {},
   "outputs": [],
   "source": [
    "import thulac"
   ]
  },
  {
   "cell_type": "code",
   "execution_count": 2,
   "metadata": {},
   "outputs": [],
   "source": [
    "import numpy as np\n",
    "import pandas as pd\n",
    "import pkuseg\n",
    "import jieba\n",
    "import json"
   ]
  },
  {
   "cell_type": "code",
   "execution_count": 3,
   "metadata": {},
   "outputs": [],
   "source": [
    "base_dir = './ccks2019_el/'"
   ]
  },
  {
   "cell_type": "code",
   "execution_count": 4,
   "metadata": {},
   "outputs": [],
   "source": [
    "kb_data = []\n",
    "with open(base_dir + 'kb_data') as f:\n",
    "    lines = f.readlines()\n",
    "    for line in lines:\n",
    "        kb_data.append(eval(line))"
   ]
  },
  {
   "cell_type": "code",
   "execution_count": 5,
   "metadata": {
    "scrolled": true
   },
   "outputs": [
    {
     "name": "stdout",
     "output_type": "stream",
     "text": [
      "399252\n"
     ]
    }
   ],
   "source": [
    "print(len(kb_data))"
   ]
  },
  {
   "cell_type": "code",
   "execution_count": 6,
   "metadata": {
    "scrolled": true
   },
   "outputs": [
    {
     "name": "stdout",
     "output_type": "stream",
     "text": [
      "{'alias': ['胜利'], 'subject_id': '10001', 'subject': '胜利', 'type': ['Thing'], 'data': [{'predicate': '摘要', 'object': '英雄联盟胜利系列皮肤是拳头公司制作的具有纪念意义限定系列皮肤之一。拳头公司制作的具有纪念意义限定系列皮肤还包括英雄联盟冠军系列皮肤、MSI季中冠军赛征服者系列以及英雄联盟全球总决赛冠军系列皮肤。每到赛季结束时，拳头公司都会制作胜利系列皮肤作为赛季奖励来认可那些在排位赛中勇猛拼搏达到黄金段位的玩家。'}, {'predicate': '制作方', 'object': 'Riot Games'}, {'predicate': '外文名', 'object': 'Victorious'}, {'predicate': '来源', 'object': '英雄联盟'}, {'predicate': '中文名', 'object': '胜利'}, {'predicate': '属性', 'object': '虚拟'}, {'predicate': '义项描述', 'object': '游戏《英雄联盟》胜利系列限定皮肤'}]}\n"
     ]
    }
   ],
   "source": [
    "print(kb_data[0])"
   ]
  },
  {
   "cell_type": "code",
   "execution_count": 7,
   "metadata": {},
   "outputs": [],
   "source": [
    "kb_data2 = kb_data[:100]"
   ]
  },
  {
   "cell_type": "code",
   "execution_count": 8,
   "metadata": {},
   "outputs": [],
   "source": [
    "name_dict = {}\n",
    "id_dict = {}"
   ]
  },
  {
   "cell_type": "code",
   "execution_count": 9,
   "metadata": {},
   "outputs": [],
   "source": [
    "for k in kb_data:\n",
    "    name = k['alias']\n",
    "    subject_id = k['subject_id']\n",
    "    if subject_id not in id_dict.keys():\n",
    "        id_dict[subject_id] = name\n",
    "    else:\n",
    "        print('id 重复')\n",
    "        print(subject_id)\n",
    "#         print(name)\n",
    "#         id_dict[subject_id].append(name)\n",
    "    for i in range(len(name)):\n",
    "        if name[i] not in name_dict.keys():\n",
    "            name_dict[name[i]] = [subject_id]\n",
    "        else:\n",
    "#             print(i,name[i],subject_id)\n",
    "            name_dict[name[i]].append(subject_id)"
   ]
  },
  {
   "cell_type": "code",
   "execution_count": 10,
   "metadata": {},
   "outputs": [
    {
     "name": "stdout",
     "output_type": "stream",
     "text": [
      "285447\n",
      "['胜利', '张三的歌', '七里香蔷薇', '七里香', 'Rosa banksiao R.Br', 'var.Normalis Regel', '王平', '何平', '王平将军', '树大招风', '王超', '无尽武道', '滕王阁序', '莲宗寺', '裙子', '东泉镇', '王峰', '男子汉大丈夫', 'Giovanni Boccaccio', '乔万尼·薄伽丘', '卜伽丘', '薄伽丘', '乔凡尼·卜迦丘', '乔万尼·卜伽丘', '薄伽丘，G.', '李青', 'Salty soy milk', '咸豆浆', 'xían dòu jiāng', 'Guan Jian', '关键', '周永康', '香港周永康', '郭斌', '食尸鬼2012', '盗墓者', '真子', '金文', '金湖', '故纸犹香', 'Joao Pedro', '若昂·佩德罗', '佩德罗', 'The song of love', '满江红', '尊严', '泡菜', '千娇百媚', '圣女', '爱的火花', '邻居', '天际', '杨晓东', '袁克勤', '我的老公是冥王', '酒歌', '包装设计', 'WB', '张超', '李修建', '雷神托尔', '李洁', '南山', '地表温度', '李军', 'The Crying Game', \"The Soldier's Wife\", '哭泣的游戏', '乱世浮生', '曹磊', '大国民(1DVD)', '女不强大天不容', '肖楠', 'Historias mínimas', '些许故事', '小故事', 'Minimal Stories', '些许故事Historiasmínimas(2002)', '张燕', 'Django', '姜戈', '迪亚戈', 'django', '陈实', '李航', '安全感', '韩国搞笑漫画', '槐', 'right now', '东君', '莎莎', '王伯仁', '听海', '杨希', '周劲松', '龙腾虎跃', '一九八四', '小伙子', '当那一天来临', '棋逢对手']\n"
     ]
    }
   ],
   "source": [
    "name_dict_keys = list(name_dict.keys())\n",
    "print(len(name_dict_keys))\n",
    "print(name_dict_keys[:100])"
   ]
  },
  {
   "cell_type": "code",
   "execution_count": 11,
   "metadata": {},
   "outputs": [
    {
     "name": "stdout",
     "output_type": "stream",
     "text": [
      "399252\n",
      "['10001', '10002', '10003', '10004', '10005', '10006', '10007', '10008', '10009', '10010', '10011', '10012', '10013', '10014', '10015', '10016', '10017', '10018', '10019', '10020', '10021', '10022', '10023', '10024', '10025', '10026', '10027', '10028', '10029', '10030', '10031', '10032', '10033', '10034', '10035', '10036', '10037', '10038', '10039', '10040', '10041', '10042', '10043', '10044', '10045', '10046', '10047', '10048', '10049', '10050', '10051', '10052', '10053', '10054', '10055', '10056', '10057', '10058', '10059', '10060', '10061', '10062', '10063', '10064', '10065', '10066', '10067', '10068', '10069', '10070', '10071', '10072', '10073', '10074', '10075', '10076', '10077', '10078', '10079', '10080', '10081', '10082', '10083', '10084', '10085', '10086', '10087', '10088', '10089', '10090', '10091', '10092', '10093', '10094', '10095', '10096', '10097', '10098', '10099', '10100']\n"
     ]
    }
   ],
   "source": [
    "id_dict_keys = list(id_dict.keys())\n",
    "print(len(id_dict_keys))\n",
    "print(id_dict_keys[:100])"
   ]
  },
  {
   "cell_type": "code",
   "execution_count": 12,
   "metadata": {},
   "outputs": [
    {
     "name": "stdout",
     "output_type": "stream",
     "text": [
      "1.3986904749393057\n"
     ]
    }
   ],
   "source": [
    "print(399252/285447)"
   ]
  },
  {
   "cell_type": "code",
   "execution_count": 13,
   "metadata": {},
   "outputs": [
    {
     "name": "stdout",
     "output_type": "stream",
     "text": [
      "94118\n"
     ]
    }
   ],
   "source": [
    "count = 0\n",
    "for i in name_dict.keys():\n",
    "    if len(name_dict[i]) > 1:\n",
    "        count += 1\n",
    "print(count)"
   ]
  },
  {
   "cell_type": "code",
   "execution_count": 14,
   "metadata": {},
   "outputs": [],
   "source": [
    "entity_dict = open('./entity_dict.text','w+')\n",
    "for i in name_dict.keys():\n",
    "    entity_dict.write(i + '\\n')"
   ]
  },
  {
   "cell_type": "code",
   "execution_count": null,
   "metadata": {},
   "outputs": [],
   "source": []
  }
 ],
 "metadata": {
  "kernelspec": {
   "display_name": "Python 3",
   "language": "python",
   "name": "python3"
  },
  "language_info": {
   "codemirror_mode": {
    "name": "ipython",
    "version": 3
   },
   "file_extension": ".py",
   "mimetype": "text/x-python",
   "name": "python",
   "nbconvert_exporter": "python",
   "pygments_lexer": "ipython3",
   "version": "3.6.7"
  }
 },
 "nbformat": 4,
 "nbformat_minor": 2
}
