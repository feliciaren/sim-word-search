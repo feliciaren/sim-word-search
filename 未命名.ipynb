{
 "cells": [
  {
   "cell_type": "code",
   "execution_count": 3,
   "metadata": {},
   "outputs": [],
   "source": [
    "import numpy as np\n",
    "import pandas as pd\n",
    "import pkuseg\n",
    "import jieba\n",
    "import json"
   ]
  },
  {
   "cell_type": "code",
   "execution_count": 4,
   "metadata": {},
   "outputs": [],
   "source": [
    "base_dir = './ccks2019_el/'"
   ]
  },
  {
   "cell_type": "code",
   "execution_count": 5,
   "metadata": {},
   "outputs": [],
   "source": [
    "train_data = []\n",
    "with open(base_dir + 'train.json','r') as f:\n",
    "    lines = f.readlines()\n",
    "    for line in lines:\n",
    "        line = eval(line)\n",
    "        train_data.append(line)\n",
    "#         print(line)\n",
    "#         line\n",
    "#         line = json.dumps(line)\n",
    "#         print(line)"
   ]
  },
  {
   "cell_type": "code",
   "execution_count": 6,
   "metadata": {
    "scrolled": true
   },
   "outputs": [
    {
     "name": "stdout",
     "output_type": "stream",
     "text": [
      "90000\n"
     ]
    }
   ],
   "source": [
    "print(len(train_data))"
   ]
  },
  {
   "cell_type": "code",
   "execution_count": 7,
   "metadata": {},
   "outputs": [
    {
     "name": "stdout",
     "output_type": "stream",
     "text": [
      "{'text_id': '1', 'text': '南京南站:坐高铁在南京南站下。南京南站', 'mention_data': [{'kb_id': '311223', 'mention': '南京南站', 'offset': '0'}, {'kb_id': '341096', 'mention': '高铁', 'offset': '6'}, {'kb_id': '311223', 'mention': '南京南站', 'offset': '9'}, {'kb_id': '311223', 'mention': '南京南站', 'offset': '15'}]}\n",
      "{'text_id': '2', 'text': '比特币吸粉无数,但央行的心另有所属|界面新闻 · jmedia', 'mention_data': [{'kb_id': '278410', 'mention': '比特币', 'offset': '0'}, {'kb_id': '199602', 'mention': '央行', 'offset': '9'}, {'kb_id': '215472', 'mention': '界面新闻', 'offset': '18'}]}\n",
      "{'text_id': '3', 'text': '解读《万历十五年》', 'mention_data': [{'kb_id': '131751', 'mention': '万历十五年', 'offset': '3'}]}\n",
      "{'text_id': '4', 'text': '《时间的针脚第一季》迅雷下载_完整版在线观看_美剧...', 'mention_data': [{'kb_id': 'NIL', 'mention': '时间的针脚第一季', 'offset': '1'}, {'kb_id': '57067', 'mention': '迅雷', 'offset': '10'}, {'kb_id': '394479', 'mention': '美剧', 'offset': '23'}]}\n",
      "{'text_id': '5', 'text': '毛泽东扮演者赵新月评《大秧歌》“大”在哪', 'mention_data': [{'kb_id': '289026', 'mention': '毛泽东', 'offset': '0'}, {'kb_id': 'NIL', 'mention': '赵新月', 'offset': '6'}, {'kb_id': '335162', 'mention': '大秧歌', 'offset': '11'}]}\n",
      "{'text_id': '6', 'text': 'lg g5 评测:玩火的阿斗', 'mention_data': [{'kb_id': '117497', 'mention': 'lg g5', 'offset': '0'}, {'kb_id': 'NIL', 'mention': '评测', 'offset': '6'}, {'kb_id': 'NIL', 'mention': '玩火的阿斗', 'offset': '9'}]}\n",
      "{'text_id': '7', 'text': '杨门女将之女儿当自强 01—在线播放—《杨门女', 'mention_data': [{'kb_id': '165230', 'mention': '杨门女将之女儿当自强', 'offset': '0'}]}\n",
      "{'text_id': '8', 'text': '《陶格陶》 - 高清正版在线观看', 'mention_data': [{'kb_id': '319134', 'mention': '陶格陶', 'offset': '1'}, {'kb_id': '281480', 'mention': '高清', 'offset': '8'}, {'kb_id': '30939', 'mention': '正版', 'offset': '10'}]}\n",
      "{'text_id': '9', 'text': '冬大过年-网络电影', 'mention_data': [{'kb_id': '253284', 'mention': '冬大过年', 'offset': '0'}, {'kb_id': '397559', 'mention': '网络', 'offset': '5'}, {'kb_id': '148097', 'mention': '电影', 'offset': '7'}]}\n",
      "{'text_id': '10', 'text': '《2015sbs歌谣大战片花》少女时代 《lion heart》', 'mention_data': [{'kb_id': 'NIL', 'mention': '2015sbs歌谣大战片花', 'offset': '1'}, {'kb_id': '116223', 'mention': '少女时代', 'offset': '15'}, {'kb_id': '260275', 'mention': 'lion heart', 'offset': '21'}]}\n"
     ]
    }
   ],
   "source": [
    "for i in range(10):\n",
    "    print(train_data[i])"
   ]
  },
  {
   "cell_type": "code",
   "execution_count": 8,
   "metadata": {},
   "outputs": [],
   "source": [
    "kb_data = []\n",
    "with open(base_dir + 'kb_data') as f:\n",
    "    lines = f.readlines()\n",
    "    for line in lines:\n",
    "        kb_data.append(eval(line))"
   ]
  },
  {
   "cell_type": "code",
   "execution_count": 9,
   "metadata": {},
   "outputs": [
    {
     "name": "stdout",
     "output_type": "stream",
     "text": [
      "399252\n",
      "{'alias': ['胜利'], 'subject_id': '10001', 'subject': '胜利', 'type': ['Thing'], 'data': [{'predicate': '摘要', 'object': '英雄联盟胜利系列皮肤是拳头公司制作的具有纪念意义限定系列皮肤之一。拳头公司制作的具有纪念意义限定系列皮肤还包括英雄联盟冠军系列皮肤、MSI季中冠军赛征服者系列以及英雄联盟全球总决赛冠军系列皮肤。每到赛季结束时，拳头公司都会制作胜利系列皮肤作为赛季奖励来认可那些在排位赛中勇猛拼搏达到黄金段位的玩家。'}, {'predicate': '制作方', 'object': 'Riot Games'}, {'predicate': '外文名', 'object': 'Victorious'}, {'predicate': '来源', 'object': '英雄联盟'}, {'predicate': '中文名', 'object': '胜利'}, {'predicate': '属性', 'object': '虚拟'}, {'predicate': '义项描述', 'object': '游戏《英雄联盟》胜利系列限定皮肤'}]}\n",
      "{'alias': ['张三的歌'], 'subject_id': '10002', 'subject': '张三的歌', 'type': ['CreativeWork'], 'data': [{'predicate': '摘要', 'object': '《张三的歌》这首经典老歌，词曲作者是张子石。最早收录于李寿全的专辑《8又二分之一》当中。李寿全作为台湾民谣时代的推动人，在80年代中后期有着举足轻重的地位，而这首《张三的歌》出现在当时的背景之下，带来了无可比拟的社会效应，也为那个年代留下了无法抹去的回忆。随着时间的推移，陈翔、齐秦、吴宗宪、蔡琴、青鸟飞鱼等歌手都曾翻唱过。'}, {'predicate': '歌曲原唱', 'object': '李寿全'}, {'predicate': '谱曲', 'object': '张子石'}, {'predicate': '歌曲时长', 'object': '3分58秒'}, {'predicate': '歌曲语言', 'object': '普通话'}, {'predicate': '音乐风格', 'object': '民谣'}, {'predicate': '唱片公司', 'object': '飞碟唱片'}, {'predicate': '翻唱', 'object': '齐秦、苏芮、南方二重唱等'}, {'predicate': '填词', 'object': '张子石'}, {'predicate': '发行时间', 'object': '1986-08-01'}, {'predicate': '中文名称', 'object': '张三的歌'}, {'predicate': '所属专辑', 'object': '8又二分之一'}, {'predicate': '义项描述', 'object': '李寿全演唱歌曲'}, {'predicate': '标签', 'object': '单曲'}, {'predicate': '标签', 'object': '音乐作品'}]}\n",
      "{'alias': ['七里香蔷薇', '七里香', 'Rosa banksiao R.Br', 'var.Normalis Regel'], 'subject_id': '10003', 'subject': '单瓣木香花', 'type': ['Plant'], 'data': [{'predicate': '摘要', 'object': '单瓣木香花为啬薇科植物单瓣木香花的根皮(俗称红根)。用于月经不调、月经过多、外伤红肿、瘀血作痛。'}, {'predicate': '亚目', 'object': '蔷薇亚目(Rosineae)'}, {'predicate': '别称', 'object': '七里香蔷薇、七里香(陕西)'}, {'predicate': '种', 'object': '单瓣木香花'}, {'predicate': '界', 'object': '植物界'}, {'predicate': '目', 'object': '蔷薇目(Rosales)'}, {'predicate': '科', 'object': '蔷薇科(Rosaceae)'}, {'predicate': '拉丁学名', 'object': 'Rosa banksiao R.Br， var.Normalis Regel.'}, {'predicate': '纲', 'object': '双子叶植物纲(Magnoliopsida)'}, {'predicate': '门', 'object': '被子植物门(Angiospermae)'}, {'predicate': '中文学名', 'object': '单瓣木香花'}, {'predicate': '亚科', 'object': '苹果亚科(Pomoideae或Maloideae)'}, {'predicate': '亚纲', 'object': '蔷薇亚纲(Rosidae)'}, {'predicate': '义项描述', 'object': '单瓣木香花'}, {'predicate': '标签', 'object': '生物物种'}, {'predicate': '标签', 'object': '植物'}, {'predicate': '标签', 'object': '中药'}]}\n",
      "{'alias': ['王平', '何平', '何平', '王平将军'], 'subject_id': '10004', 'subject': '王平', 'type': ['HistoricalPerson', 'Human'], 'data': [{'predicate': '摘要', 'object': '王平(？—248年)，字子均，巴西宕渠(今四川省渠县东北)人，籍贯益州。三国时蜀汉后期大将。原属曹操，曹操与刘备争汉中，得以投降刘备。诸葛亮第一次北伐时与马谡一同守街亭，之后深受诸葛亮的器重，率领蜀汉的王牌军队无当飞军，多次随诸葛亮北伐。诸葛亮死后，拜前监军、镇北大将军，镇守汉中，曹爽率领十万大军攻汉中时，被王平所击退，累封安汉侯。延熙十一年，王平去世，其子王训继承了爵位。'}, {'predicate': '出生地', 'object': '巴西宕渠'}, {'predicate': '爵位', 'object': '安汉侯'}, {'predicate': '官职', 'object': '镇北大将军，汉中太守'}, {'predicate': '所处时代', 'object': '三国'}, {'predicate': '本名', 'object': '王平'}, {'predicate': '字号', 'object': '字子均'}, {'predicate': '民族族群', 'object': '汉化賨人'}, {'predicate': '别称', 'object': '何平'}, {'predicate': '主要成就', 'object': '击退曹爽大举伐蜀'}, {'predicate': '去世时间', 'object': '248年'}, {'predicate': '义项描述', 'object': '三国时期蜀汉将领'}, {'predicate': '标签', 'object': '政治人物'}, {'predicate': '标签', 'object': '人物'}, {'predicate': '标签', 'object': '将领'}]}\n",
      "{'alias': ['树大招风'], 'subject_id': '10005', 'subject': '树大招风', 'type': ['Thing'], 'data': [{'predicate': '摘要', 'object': '树大招风，三国杀集换式卡牌游戏《阵面对决》中的卡牌。'}, {'predicate': '义项描述', 'object': '《阵面对决》中的卡牌'}, {'predicate': '标签', 'object': '娱乐'}]}\n",
      "{'alias': ['王超'], 'subject_id': '10006', 'subject': '王超', 'type': ['Human'], 'data': [{'predicate': '义项描述', 'object': '齐鲁书画研究院书画家'}, {'predicate': '标签', 'object': '人物'}, {'predicate': '标签', 'object': '艺术家'}]}\n",
      "{'alias': ['无尽武道'], 'subject_id': '10007', 'subject': '无尽武道', 'type': ['CreativeWork'], 'data': [{'predicate': '摘要', 'object': '《无尽武道》是一部爱情类的小说，作者是穿越梦竹，小说仍在连载中，连载网站是晋江文学城。'}, {'predicate': '连载网站', 'object': '晋江文学城'}, {'predicate': '小说进度', 'object': '连载'}, {'predicate': '作者', 'object': '穿越梦竹'}, {'predicate': '中文名', 'object': '无尽武道'}, {'predicate': '小说类型', 'object': '爱情'}, {'predicate': '义项描述', 'object': '穿越梦竹著作小说'}, {'predicate': '标签', 'object': '书籍'}, {'predicate': '标签', 'object': '小说作品'}, {'predicate': '标签', 'object': '中国文学'}, {'predicate': '标签', 'object': '文学作品'}, {'predicate': '标签', 'object': '小说'}]}\n",
      "{'alias': ['滕王阁序'], 'subject_id': '10008', 'subject': '滕王阁序', 'type': ['Thing'], 'data': [{'predicate': '摘要', 'object': '《滕王阁序》是佚名的音乐作品,收录在《诗词歌赋大集合》专辑中。'}, {'predicate': '音乐时长', 'object': '3分50秒'}, {'predicate': '所属专辑', 'object': '诗词歌赋大集合'}, {'predicate': '义项描述', 'object': '佚名演唱歌曲'}]}\n",
      "{'alias': ['莲宗寺'], 'subject_id': '10009', 'subject': '莲宗寺', 'type': ['Place'], 'data': [{'predicate': '摘要', 'object': '莲宗寺位于天津市和平区保安大街，是1949年后天津仅存的一座尼僧寺院。创建者际然法师在开山时所发的愿言“来僧不赶，去僧不留，自己不亲度徒众”的愿言，使此寺十方丛林的清严道风名闻遐迩。此道风被际然尼师的接班人圣慧法师继承至今，并将作为莲宗寺的传院家风而保留。2014年2月14日(正月十五)莲宗寺落地大修工程正式启动，莲宗寺所有宗教佛事活动均转移至莲宗寺临时活动道场进行(甘肃路32号，在甘肃路上万全道与鞍山道之间)。'}, {'predicate': '类型', 'object': '尼僧寺院'}, {'predicate': '中文名称', 'object': '莲宗寺'}, {'predicate': '占地面积', 'object': '一亩一分'}, {'predicate': '地理位置', 'object': '天津市和平区'}, {'predicate': '义项描述', 'object': '天津'}, {'predicate': '标签', 'object': '地理'}, {'predicate': '标签', 'object': '文化'}, {'predicate': '标签', 'object': '文物考古'}, {'predicate': '标签', 'object': '景观景点'}, {'predicate': '标签', 'object': '建筑'}, {'predicate': '标签', 'object': '历史'}]}\n",
      "{'alias': ['裙子'], 'subject_id': '10010', 'subject': '裙子', 'type': ['Thing'], 'data': [{'predicate': '摘要', 'object': '《裙子》是一部由[瑞士]杰曼诺·祖罗所著图画书籍，新星出版社出版发行。'}, {'predicate': '作者', 'object': '[瑞士]杰曼诺·祖罗'}, {'predicate': 'ISBN', 'object': '9787513307017'}, {'predicate': '书名', 'object': '裙子'}, {'predicate': '出版社', 'object': '新星出版社'}, {'predicate': '义项描述', 'object': '[瑞士]杰曼诺·祖罗所著书籍'}]}\n"
     ]
    }
   ],
   "source": [
    "print(len(kb_data))\n",
    "for i in range(10):\n",
    "    print(kb_data[i])"
   ]
  },
  {
   "cell_type": "code",
   "execution_count": 11,
   "metadata": {},
   "outputs": [],
   "source": [
    "multi_kb_name = []\n",
    "for i in kb_data:\n",
    "    if(len(i['alias']) > 1):\n",
    "        multi_kb_name.append(i)"
   ]
  },
  {
   "cell_type": "code",
   "execution_count": 12,
   "metadata": {},
   "outputs": [
    {
     "name": "stdout",
     "output_type": "stream",
     "text": [
      "90703\n"
     ]
    }
   ],
   "source": [
    "print(len(multi_kb_name))"
   ]
  },
  {
   "cell_type": "code",
   "execution_count": 13,
   "metadata": {},
   "outputs": [
    {
     "name": "stdout",
     "output_type": "stream",
     "text": [
      "{'alias': ['七里香蔷薇', '七里香', 'Rosa banksiao R.Br', 'var.Normalis Regel'], 'subject_id': '10003', 'subject': '单瓣木香花', 'type': ['Plant'], 'data': [{'predicate': '摘要', 'object': '单瓣木香花为啬薇科植物单瓣木香花的根皮(俗称红根)。用于月经不调、月经过多、外伤红肿、瘀血作痛。'}, {'predicate': '亚目', 'object': '蔷薇亚目(Rosineae)'}, {'predicate': '别称', 'object': '七里香蔷薇、七里香(陕西)'}, {'predicate': '种', 'object': '单瓣木香花'}, {'predicate': '界', 'object': '植物界'}, {'predicate': '目', 'object': '蔷薇目(Rosales)'}, {'predicate': '科', 'object': '蔷薇科(Rosaceae)'}, {'predicate': '拉丁学名', 'object': 'Rosa banksiao R.Br， var.Normalis Regel.'}, {'predicate': '纲', 'object': '双子叶植物纲(Magnoliopsida)'}, {'predicate': '门', 'object': '被子植物门(Angiospermae)'}, {'predicate': '中文学名', 'object': '单瓣木香花'}, {'predicate': '亚科', 'object': '苹果亚科(Pomoideae或Maloideae)'}, {'predicate': '亚纲', 'object': '蔷薇亚纲(Rosidae)'}, {'predicate': '义项描述', 'object': '单瓣木香花'}, {'predicate': '标签', 'object': '生物物种'}, {'predicate': '标签', 'object': '植物'}, {'predicate': '标签', 'object': '中药'}]}\n",
      "{'alias': ['王平', '何平', '何平', '王平将军'], 'subject_id': '10004', 'subject': '王平', 'type': ['HistoricalPerson', 'Human'], 'data': [{'predicate': '摘要', 'object': '王平(？—248年)，字子均，巴西宕渠(今四川省渠县东北)人，籍贯益州。三国时蜀汉后期大将。原属曹操，曹操与刘备争汉中，得以投降刘备。诸葛亮第一次北伐时与马谡一同守街亭，之后深受诸葛亮的器重，率领蜀汉的王牌军队无当飞军，多次随诸葛亮北伐。诸葛亮死后，拜前监军、镇北大将军，镇守汉中，曹爽率领十万大军攻汉中时，被王平所击退，累封安汉侯。延熙十一年，王平去世，其子王训继承了爵位。'}, {'predicate': '出生地', 'object': '巴西宕渠'}, {'predicate': '爵位', 'object': '安汉侯'}, {'predicate': '官职', 'object': '镇北大将军，汉中太守'}, {'predicate': '所处时代', 'object': '三国'}, {'predicate': '本名', 'object': '王平'}, {'predicate': '字号', 'object': '字子均'}, {'predicate': '民族族群', 'object': '汉化賨人'}, {'predicate': '别称', 'object': '何平'}, {'predicate': '主要成就', 'object': '击退曹爽大举伐蜀'}, {'predicate': '去世时间', 'object': '248年'}, {'predicate': '义项描述', 'object': '三国时期蜀汉将领'}, {'predicate': '标签', 'object': '政治人物'}, {'predicate': '标签', 'object': '人物'}, {'predicate': '标签', 'object': '将领'}]}\n",
      "{'alias': ['Giovanni Boccaccio', '乔万尼·薄伽丘', '卜伽丘', '薄伽丘', '乔凡尼·卜迦丘', '乔万尼·卜伽丘', '薄伽丘，G.'], 'subject_id': '10014', 'subject': '乔万尼·薄伽丘', 'type': ['Human'], 'data': [{'predicate': '摘要', 'object': '乔万尼·薄伽丘(Giovanni Boccaccio，1313年——1375年12月21日)，意大利文艺复兴运动的杰出代表，人文主义杰出作家。与诗人但丁、彼特拉克并称为佛罗伦萨文学“三杰”。其代表作《十日谈》是欧洲文学史上第一部现实主义作品。它批判宗教守旧思想，主张“幸福在人间”，被视为文艺复兴的宣言。'}, {'predicate': '出生地', 'object': '巴黎或契塔尔多'}, {'predicate': '外文名', 'object': 'Giovanni Boccaccio'}, {'predicate': '逝世日期', 'object': '1375年12月21日'}, {'predicate': '星座', 'object': '双子座'}, {'predicate': '别名', 'object': '卜伽丘'}, {'predicate': '代表作品', 'object': '《十日谈》、《菲洛柯洛》、《苔塞伊达》《但丁传》'}, {'predicate': '中文名', 'object': '乔万尼·薄伽丘'}, {'predicate': '国籍', 'object': '佛罗伦萨共和国'}, {'predicate': '出生日期', 'object': '1313(癸丑年)6月16日'}, {'predicate': '职业', 'object': '作家，诗人'}, {'predicate': '民族', 'object': '意大利人'}, {'predicate': '主要成就', 'object': '意大利文艺复兴先驱，人文主义杰出作家'}, {'predicate': '义项描述', 'object': '乔万尼·薄伽丘'}, {'predicate': '标签', 'object': '人物'}, {'predicate': '标签', 'object': '文学家'}, {'predicate': '标签', 'object': '文学'}]}\n",
      "{'alias': ['Salty soy milk', '咸豆浆', 'xían dòu jiāng'], 'subject_id': '10016', 'subject': '咸豆浆', 'type': ['Movie'], 'data': [{'predicate': '摘要', 'object': '《咸豆浆》是2002年上映的台湾电影，由王明台导演。范植伟，马志翔等人主演。《咸豆浆》讲述明贤深爱著他所不该爱的静芬，因为静芬已经有了在PUB演唱的男友阿翔。但也因为他心中无怨无悔的爱，他毫不犹豫地答应了静芬一块从事仙人跳的勾当，目的却是为了要买一把吉他送给阿翔。陪著明贤一起做出拒绝联考的决定，启文不仅失去了女友，彷佛也失去了对自我生命的自信。这时候，他发现楼下的神秘女郎总被一个黑道大哥欺负，他的心中突然萌生了为解救女郎而和黑道大哥奋力对抗的勇敢念头。'}, {'predicate': '出品时间', 'object': '2002'}, {'predicate': '导演', 'object': '王明台'}, {'predicate': '制片地区', 'object': '中国台湾'}, {'predicate': '外文名', 'object': 'Salty soy milk'}, {'predicate': '片长', 'object': '103分钟'}, {'predicate': '对白语言', 'object': '汉语普通话，台语'}, {'predicate': '编剧', 'object': '王明台'}, {'predicate': '中文名', 'object': '咸豆浆'}, {'predicate': '上映时间', 'object': '2002年'}, {'predicate': '主演', 'object': '范植伟，马志翔，简沛恩，黄嘉千'}, {'predicate': '类型', 'object': '剧情'}, {'predicate': '其它译名', 'object': 'xían dòu jiāng'}, {'predicate': '义项描述', 'object': '2002年王明台执导电影'}, {'predicate': '标签', 'object': '娱乐作品'}, {'predicate': '标签', 'object': '电影作品'}, {'predicate': '标签', 'object': '剧情电影'}, {'predicate': '标签', 'object': '台湾电影'}]}\n",
      "{'alias': ['Guan Jian', '关键'], 'subject_id': '10017', 'subject': '关键', 'type': ['EntertainmentPerson'], 'data': [{'predicate': '摘要', 'object': '关键，出生于中华人民共和国，CCTV-7《军事报道》节目主持人，陆军中校军衔。'}, {'predicate': '外文名', 'object': 'Guan Jian'}, {'predicate': '军衔', 'object': '中校'}, {'predicate': '中文名', 'object': '关键'}, {'predicate': '代表作品', 'object': '《军事报道》'}, {'predicate': '所属公司', 'object': '中国中央电视台'}, {'predicate': '国籍', 'object': '中华人民共和国'}, {'predicate': '所属军队', 'object': '中国人民解放军总政治部'}, {'predicate': '职业', 'object': '主持人、军人'}, {'predicate': '民族', 'object': '汉族'}, {'predicate': '义项描述', 'object': '中央电视台军事报道节目主持人'}]}\n",
      "{'alias': ['周永康', '香港周永康'], 'subject_id': '10018', 'subject': '周永康', 'type': ['Human'], 'data': [{'predicate': '摘要', 'object': '周永康，汉族，香港大学学生，香港“占中运动”发起者，并且担任“占中运动”领导。2018年2月6日，周永康就闯入政府总部东翼前地案被改判监后提出上诉，终审法院裁定3人上诉成功，维持原审判决。'}, {'predicate': '毕业院校', 'object': '香港大学'}, {'predicate': '中文名', 'object': '周永康'}, {'predicate': '主要成就', 'object': '发起香港占中运动，并担任领导'}, {'predicate': '国籍', 'object': '中华人民共和国'}, {'predicate': '职业', 'object': '学生'}, {'predicate': '民族', 'object': '汉族'}, {'predicate': '义项描述', 'object': '香港学联秘书长'}, {'predicate': '标签', 'object': '人物'}]}\n",
      "{'alias': ['食尸鬼2012', '盗墓者'], 'subject_id': '10020', 'subject': '食尸鬼2012', 'type': ['Movie'], 'data': [{'predicate': '摘要', 'object': '《食尸鬼2012》是2012年上映的美国恐怖电影，由Gary Jones执导，诺兰·古尔德、安德烈等主演。影片讲述了公共墓地有某种恐怖物体在不停游荡，潜伏的恶魔伤害人类的故事。'}, {'predicate': '导演', 'object': 'Gary Jones'}, {'predicate': '制片地区', 'object': '美国'}, {'predicate': '片长', 'object': '80分钟'}, {'predicate': '对白语言', 'object': '英语'}, {'predicate': '中文名', 'object': '食尸鬼2012'}, {'predicate': '上映时间', 'object': '2012年'}, {'predicate': '类型', 'object': '剧情 / 悬疑 / 惊悚 / 恐怖'}, {'predicate': '其它译名', 'object': '盗墓者'}, {'predicate': '义项描述', 'object': '食尸鬼2012'}, {'predicate': '标签', 'object': '娱乐作品'}, {'predicate': '标签', 'object': '电影作品'}, {'predicate': '标签', 'object': '惊悚电影'}, {'predicate': '标签', 'object': '剧情电影'}, {'predicate': '标签', 'object': '电影'}]}\n",
      "{'alias': ['金文', '金湖'], 'subject_id': '10022', 'subject': '金东湖', 'type': ['Human'], 'data': [{'predicate': '摘要', 'object': '1957年毕业于吉林延边大学；1957年9月-1960年2月：吉林延边大学附中高中教员；1960年3月-1965年：中国朝鲜族少年报记者、编辑；1966年-1972年：吉林延边日报社编辑、记者(其中1969年12月至1971年下放农村插队落户)；1973年-1975年延边文化馆《群众演唱》编辑主任；1976年至现在吉林省延边文学(天池)月刊社编辑部部主任、退休。著有抒情诗集《悲欢离合在这里》、《边疆的苦菜花》(合著)、儿童诗集《小松树》。'}, {'predicate': '出生日期', 'object': '1934年6月'}, {'predicate': '毕业院校', 'object': '吉林延边大学'}, {'predicate': '职业', 'object': '吉林延边日报社编辑、记者'}, {'predicate': '民族', 'object': '朝鲜族'}, {'predicate': '别名', 'object': '金文、金湖'}, {'predicate': '义项描述', 'object': '金东湖'}, {'predicate': '标签', 'object': '行业人物'}]}\n",
      "{'alias': ['Joao Pedro', '若昂·佩德罗', '佩德罗'], 'subject_id': '10024', 'subject': '若昂·佩德罗', 'type': ['Athlete', 'Human'], 'data': [{'predicate': '摘要', 'object': '若昂·佩德罗，是一名巴西足球运动员。'}, {'predicate': '国籍', 'object': '巴西'}, {'predicate': '外文名', 'object': 'Joao Pedro'}, {'predicate': '出生地', 'object': 'Ipatinga'}, {'predicate': '中文名', 'object': '若昂·佩德罗'}, {'predicate': '出生日期', 'object': '1992-03-09'}, {'predicate': '义项描述', 'object': '巴西足球运动员'}, {'predicate': '标签', 'object': '足球运动员'}, {'predicate': '标签', 'object': '足球'}, {'predicate': '标签', 'object': '体育人物'}]}\n",
      "{'alias': ['The song of love', '满江红'], 'subject_id': '10025', 'subject': '满江红', 'type': ['Movie'], 'data': [{'predicate': '摘要', 'object': '《满江红》是由左几执导的剧情片，张瑛、白燕、夏萍、黄曼梨、杨茜、姜中平等参加演出。该片讲述了美术教师于水村与歌女桃枝的爱情故事。'}, {'predicate': '外文名', 'object': 'The song of love'}, {'predicate': '导演', 'object': '左几'}, {'predicate': '制片地区', 'object': '中国香港'}, {'predicate': '出品时间', 'object': '1962年'}, {'predicate': '片长', 'object': '122分钟'}, {'predicate': '对白语言', 'object': '粤语'}, {'predicate': '编剧', 'object': '左几'}, {'predicate': '中文名', 'object': '满江红'}, {'predicate': '上映时间', 'object': '1962年2月28日'}, {'predicate': '制片人', 'object': '谢益之，张铁'}, {'predicate': '主演', 'object': '张瑛，白燕，夏萍，黄曼梨，杨茜，姜中平'}, {'predicate': '类型', 'object': '剧情'}, {'predicate': '色彩', 'object': '黑白'}, {'predicate': '出品公司', 'object': '华侨电影企业有限公司'}, {'predicate': '义项描述', 'object': '1962年左几执导电影'}, {'predicate': '标签', 'object': '娱乐作品'}, {'predicate': '标签', 'object': '电影作品'}, {'predicate': '标签', 'object': '剧情电影'}, {'predicate': '标签', 'object': '香港电影'}, {'predicate': '标签', 'object': '电影'}]}\n"
     ]
    }
   ],
   "source": [
    "for i in range(10):\n",
    "    print(multi_kb_name[i])"
   ]
  },
  {
   "cell_type": "code",
   "execution_count": null,
   "metadata": {},
   "outputs": [],
   "source": []
  }
 ],
 "metadata": {
  "kernelspec": {
   "display_name": "Python 3",
   "language": "python",
   "name": "python3"
  },
  "language_info": {
   "codemirror_mode": {
    "name": "ipython",
    "version": 3
   },
   "file_extension": ".py",
   "mimetype": "text/x-python",
   "name": "python",
   "nbconvert_exporter": "python",
   "pygments_lexer": "ipython3",
   "version": "3.6.7"
  }
 },
 "nbformat": 4,
 "nbformat_minor": 2
}
